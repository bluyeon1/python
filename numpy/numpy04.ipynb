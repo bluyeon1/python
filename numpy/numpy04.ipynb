{
  "cells": [
    {
      "cell_type": "markdown",
      "metadata": {
        "id": "view-in-github",
        "colab_type": "text"
      },
      "source": [
        "<a href=\"https://colab.research.google.com/github/k2moon/python/blob/main/numpy/numpy04.ipynb\" target=\"_parent\"><img src=\"https://colab.research.google.com/assets/colab-badge.svg\" alt=\"Open In Colab\"/></a>"
      ]
    },
    {
      "cell_type": "markdown",
      "metadata": {
        "school_cell_uuid": "f1e120d9f1574e31aa1b43d5d7530b1e",
        "id": "w1zBAxU_-uxf"
      },
      "source": [
        "# 3.4 기술 통계"
      ]
    },
    {
      "cell_type": "markdown",
      "metadata": {
        "id": "b_RmaDU--uxh"
      },
      "source": [
        "```{margin}\n",
        "기술 통계\n",
        "```"
      ]
    },
    {
      "cell_type": "markdown",
      "metadata": {
        "school_cell_uuid": "e0cf86dc37194b9caee4bb8b1d0c2478",
        "id": "JJMLjF9--uxi"
      },
      "source": [
        "넘파이는 다음과 같은 데이터 집합에 대해 간단한 통계를 계산하는 함수를 제공한다. 이러한 값들을 통틀어 기술 통계(descriptive statistics)라고 한다.\n",
        "\n",
        "* 데이터의 개수(count)\n",
        "* 평균(mean, average)\n",
        "* 분산(variance)\n",
        "* 표준 편차(standard deviation)\n",
        "* 최댓값(maximum)\n",
        "* 최솟값(minimum)\n",
        "* 중앙값(median)\n",
        "* 사분위수(quartile)"
      ]
    },
    {
      "cell_type": "markdown",
      "metadata": {
        "school_cell_uuid": "5007a8ec08214ee9b2e5d84dc6628678",
        "id": "0bmsT3Hg-uxi"
      },
      "source": [
        "예를 들어 다음과 같은 데이터 $x$가 있다고 하자.\n",
        "\n",
        "$$\n",
        "x = \\{\n",
        "18,   5,  10,  23,  19,  -8,  10,   0,   0,   5,   2,  15,   8,\n",
        "2,   5,   4,  15,  -1,   4,  -7, -24,   7,   9,  -6,  23, -13\n",
        "\\}\n",
        "$$\n",
        "             \n",
        "\n",
        "$x$를 이루는 숫자 하나하나를 수학 기호로는 $x_1, x_2, \\cdots, x_N$처럼 표시한다. 위 예에서 $x_1 = 18$, $x_2 = 5$이다.\n",
        "\n",
        "넘파이에서는 이러한 데이터를 1차원 배열로 구현한다."
      ]
    },
    {
      "cell_type": "code",
      "execution_count": null,
      "metadata": {
        "school_cell_uuid": "46bb43f2d2924332ab0f3f09c460c32f",
        "id": "UeGFnx1X-uxj"
      },
      "outputs": [],
      "source": [
        "x = np.array([18,   5,  10,  23,  19,  -8,  10,   0,   0,   5,   2,  15,   8,\n",
        "              2,   5,   4,  15,  -1,   4,  -7, -24,   7,   9,  -6,  23, -13])"
      ]
    },
    {
      "cell_type": "markdown",
      "metadata": {
        "school_cell_uuid": "584cc6f1767f42049e5c45354c6349c4",
        "id": "0HLZUicq-uxk"
      },
      "source": [
        "### 데이터의 개수"
      ]
    },
    {
      "cell_type": "markdown",
      "metadata": {
        "school_cell_uuid": "3afcea2fe96f4df4a325ae8cf0962dff",
        "id": "0bUqbFzj-uxk"
      },
      "source": [
        "데이터의 개수는 `len` 명령으로 구할 수 있다."
      ]
    },
    {
      "cell_type": "code",
      "execution_count": null,
      "metadata": {
        "school_cell_uuid": "6e12faa9857c455aa84f2cea6b58a036",
        "id": "SjvgDcWl-uxl",
        "outputId": "4fc2ec86-8428-41e5-a5d1-0188c5285cb3"
      },
      "outputs": [
        {
          "data": {
            "text/plain": [
              "26"
            ]
          },
          "execution_count": 2,
          "metadata": {},
          "output_type": "execute_result"
        }
      ],
      "source": [
        "len(x)  # 갯수"
      ]
    },
    {
      "cell_type": "markdown",
      "metadata": {
        "school_cell_uuid": "bafea7976594466d8a34b0623bf48a88",
        "id": "qBdWs-Pg-uxm"
      },
      "source": [
        "### 표본 평균"
      ]
    },
    {
      "cell_type": "markdown",
      "metadata": {
        "school_cell_uuid": "2e4d88614dc24a7a8262f665077ae369",
        "id": "NKbXZU9m-uxm"
      },
      "source": [
        "평균을 통계용어로는 표본 평균(sample average, sample mean)이라고 한다. $x$ 데이터에 대한 표본 평균은 $\\bar{x}$라고 표시하며 다음과 같이 계산한다. 이 식에서 $N$은 데이터의 개수이다.\n",
        "\n",
        "$$ \\bar{x} = \\dfrac{1}{N}\\sum_{i=1}^N x_i $$"
      ]
    },
    {
      "cell_type": "code",
      "execution_count": null,
      "metadata": {
        "school_cell_uuid": "b34bb1912f7c476f82c3e0fd3d6ae5b0",
        "id": "W7iiUwKZ-uxn",
        "outputId": "d84fc38a-eabd-4e9e-b091-73b485bb06e1"
      },
      "outputs": [
        {
          "data": {
            "text/plain": [
              "4.8076923076923075"
            ]
          },
          "execution_count": 3,
          "metadata": {},
          "output_type": "execute_result"
        }
      ],
      "source": [
        "np.mean(x)  # 평균"
      ]
    },
    {
      "cell_type": "markdown",
      "metadata": {
        "school_cell_uuid": "4db8c547c72c40d18053e301146628a4",
        "id": "5vKhviAd-uxo"
      },
      "source": [
        "### 표본 분산"
      ]
    },
    {
      "cell_type": "markdown",
      "metadata": {
        "school_cell_uuid": "2e4d88614dc24a7a8262f665077ae369",
        "id": "HAyMLw3D-uxo"
      },
      "source": [
        "표본 분산(sample variance)은 데이터와 표본 평균간의 거리의 제곱의 평균이다. 표본 분산이 작으면 데이터가 모여있는 것이고 크면 흩어져 있는 것이다. 수학 기호로는 $s^2$이라고 표시하며 다음과 같이 계산한다.\n",
        "\n",
        "$$ s^2 = \\dfrac{1}{N}\\sum_{i=1}^N (x_i - \\bar{x})^2 $$"
      ]
    },
    {
      "cell_type": "code",
      "execution_count": null,
      "metadata": {
        "school_cell_uuid": "1ffac705a908414da102ec73b6f8350d",
        "id": "xrWbMqg8-uxo",
        "outputId": "7b5b72b3-6e44-47d2-cea9-aa7c383a7a70"
      },
      "outputs": [
        {
          "data": {
            "text/plain": [
              "115.23224852071006"
            ]
          },
          "execution_count": 4,
          "metadata": {},
          "output_type": "execute_result"
        }
      ],
      "source": [
        "np.var(x)  # 분산"
      ]
    },
    {
      "cell_type": "code",
      "execution_count": null,
      "metadata": {
        "school_cell_uuid": "1ffac705a908414da102ec73b6f8350d",
        "id": "OCpyLGrJ-uxo",
        "outputId": "905cbbf9-26b3-41c3-e9ff-83fc5e55af07"
      },
      "outputs": [
        {
          "data": {
            "text/plain": [
              "119.84153846153846"
            ]
          },
          "execution_count": 5,
          "metadata": {},
          "output_type": "execute_result"
        }
      ],
      "source": [
        "np.var(x, ddof=1)  # 비편향 분산. 추후 공부하게 된다."
      ]
    },
    {
      "cell_type": "markdown",
      "metadata": {
        "school_cell_uuid": "4bbc3f5d73024b729375127f82265a17",
        "id": "d0I99kH4-uxp"
      },
      "source": [
        "### 표본 표준편차"
      ]
    },
    {
      "cell_type": "markdown",
      "metadata": {
        "school_cell_uuid": "2e4d88614dc24a7a8262f665077ae369",
        "id": "Xpdxx7gB-uxp"
      },
      "source": [
        "표본 표준편차(sample standard variance)는 표본 분산의 양의 제곱근 값이다. $s$이라고 표시한다.\n",
        "\n",
        "$$ s = \\sqrt{s^2} $$"
      ]
    },
    {
      "cell_type": "code",
      "execution_count": null,
      "metadata": {
        "school_cell_uuid": "34435c8883fc4edabe7355a6b57b9643",
        "id": "uM9Eq_1F-uxp",
        "outputId": "dc456d5c-0d9a-4822-9d56-e107a11c9957"
      },
      "outputs": [
        {
          "data": {
            "text/plain": [
              "10.734628476137871"
            ]
          },
          "execution_count": 6,
          "metadata": {},
          "output_type": "execute_result"
        }
      ],
      "source": [
        "np.std(x)  # 표준 편차"
      ]
    },
    {
      "cell_type": "markdown",
      "metadata": {
        "school_cell_uuid": "05547e99bba14b17987949e87e01810f",
        "id": "51EcN76k-uxp"
      },
      "source": [
        "### 최댓값과 최솟값"
      ]
    },
    {
      "cell_type": "markdown",
      "metadata": {
        "school_cell_uuid": "2e4d88614dc24a7a8262f665077ae369",
        "id": "PYBKWFaa-uxp"
      },
      "source": [
        "최댓값(maximum)은 데이터 중에서 가장 큰 값을, 최솟값(minimum)은 가장 작은 값을 의미한다."
      ]
    },
    {
      "cell_type": "code",
      "execution_count": null,
      "metadata": {
        "school_cell_uuid": "04c24da8c29441bb9815be7eec10f647",
        "id": "8KHe7AlV-uxq",
        "outputId": "435f15c8-e48f-403b-c8d9-28c51ba74cb2"
      },
      "outputs": [
        {
          "data": {
            "text/plain": [
              "23"
            ]
          },
          "execution_count": 7,
          "metadata": {},
          "output_type": "execute_result"
        }
      ],
      "source": [
        "np.max(x)  # 최댓값"
      ]
    },
    {
      "cell_type": "code",
      "execution_count": null,
      "metadata": {
        "school_cell_uuid": "c92a5db3daca4040a149ab4d286b1ff5",
        "id": "AuQlVtO--uxq",
        "outputId": "875a800d-cd41-4649-d37d-81b4a5ade809"
      },
      "outputs": [
        {
          "data": {
            "text/plain": [
              "-24"
            ]
          },
          "execution_count": 8,
          "metadata": {},
          "output_type": "execute_result"
        }
      ],
      "source": [
        "np.min(x)  # 최솟값"
      ]
    },
    {
      "cell_type": "markdown",
      "metadata": {
        "school_cell_uuid": "7f70258fd789484a9579bd76794b16a9",
        "id": "MitiUDVv-uxq"
      },
      "source": [
        "### 중앙값"
      ]
    },
    {
      "cell_type": "markdown",
      "metadata": {
        "school_cell_uuid": "2e4d88614dc24a7a8262f665077ae369",
        "id": "lWgRwKMy-uxq"
      },
      "source": [
        "중앙값(median)은 데이터를 크기대로 정렬하였을 때 가장 가운데에 있는 수를 말한다. 만약 데이터의 수가 짝수이면 가장 가운데에 있는 두 수의 평균을 사용한다."
      ]
    },
    {
      "cell_type": "code",
      "execution_count": null,
      "metadata": {
        "school_cell_uuid": "e1fa96e6ed7442bc9583e47fd911f3e4",
        "id": "1pDG_VYF-uxq",
        "outputId": "6955b020-eee4-43d4-9489-870fede58e1a"
      },
      "outputs": [
        {
          "data": {
            "text/plain": [
              "5.0"
            ]
          },
          "execution_count": 9,
          "metadata": {},
          "output_type": "execute_result"
        }
      ],
      "source": [
        "np.median(x)  # 중앙값"
      ]
    },
    {
      "cell_type": "markdown",
      "metadata": {
        "school_cell_uuid": "58a28972d7384333b0319b43f1735892",
        "id": "uAD4XSR9-uxr"
      },
      "source": [
        "### 사분위수"
      ]
    },
    {
      "cell_type": "markdown",
      "metadata": {
        "school_cell_uuid": "ce4db8b11cb54285b112ccc8bd6124d8",
        "id": "onil9jVi-uxr"
      },
      "source": [
        "사분위수(quartile)는 데이터를 가장 작은 수부터 가장 큰 수까지 크기가 커지는 순서대로 정렬하였을 때 1/4, 2/4, 3/4 위치에 있는 수를 말한다. 각각 1사분위수, 2사분위수, 3사분위수라고 한다. 1/4의 위치란 전체 데이터의 수가 만약 100개이면 25번째 순서, 즉 하위 25%를 말한다. 따라서 2사분위수는 중앙값과 같다. \n",
        "\n",
        "때로는 위치를 1/100 단위로 나눈 백분위수(percentile)을 사용하기도 한다. 1사분위수는 25% 백분위수와 같다."
      ]
    },
    {
      "cell_type": "code",
      "execution_count": null,
      "metadata": {
        "school_cell_uuid": "64bb2071eff44538b8ec961b89ae7e18",
        "id": "LPehSGDf-uxr",
        "outputId": "0ab78d9d-6047-4357-f8dd-707dfd4d5c18"
      },
      "outputs": [
        {
          "data": {
            "text/plain": [
              "-24.0"
            ]
          },
          "execution_count": 10,
          "metadata": {},
          "output_type": "execute_result"
        }
      ],
      "source": [
        "np.percentile(x, 0)  # 최소값"
      ]
    },
    {
      "cell_type": "code",
      "execution_count": null,
      "metadata": {
        "school_cell_uuid": "64bb2071eff44538b8ec961b89ae7e18",
        "id": "dyeKLNi1-uxr",
        "outputId": "12d5c4b5-f003-4fd9-df70-6ce80a5143a8"
      },
      "outputs": [
        {
          "data": {
            "text/plain": [
              "0.0"
            ]
          },
          "execution_count": 11,
          "metadata": {},
          "output_type": "execute_result"
        }
      ],
      "source": [
        "np.percentile(x, 25)  # 1사분위 수"
      ]
    },
    {
      "cell_type": "code",
      "execution_count": null,
      "metadata": {
        "school_cell_uuid": "cda69de008b44a9e9fdbd366173c1a7c",
        "id": "Gf4yJwp_-uxs",
        "outputId": "76376bdb-86f3-4274-8a2a-5202b220adf5"
      },
      "outputs": [
        {
          "data": {
            "text/plain": [
              "5.0"
            ]
          },
          "execution_count": 12,
          "metadata": {},
          "output_type": "execute_result"
        }
      ],
      "source": [
        "np.percentile(x, 50)  # 2사분위 수"
      ]
    },
    {
      "cell_type": "code",
      "execution_count": null,
      "metadata": {
        "school_cell_uuid": "3a6242f292674da499c6056b35ae0256",
        "id": "tRcxf-HY-uxs",
        "outputId": "cfe602b9-bfb1-4f82-e6ec-17ac350aed90"
      },
      "outputs": [
        {
          "data": {
            "text/plain": [
              "10.0"
            ]
          },
          "execution_count": 13,
          "metadata": {},
          "output_type": "execute_result"
        }
      ],
      "source": [
        "np.percentile(x, 75)  # 3사분위 수"
      ]
    },
    {
      "cell_type": "code",
      "execution_count": null,
      "metadata": {
        "school_cell_uuid": "3a6242f292674da499c6056b35ae0256",
        "id": "LAXP7Mwy-uxs",
        "outputId": "3c39ba36-e73a-4d04-d910-09e55cdf0ac9"
      },
      "outputs": [
        {
          "data": {
            "text/plain": [
              "23.0"
            ]
          },
          "execution_count": 14,
          "metadata": {},
          "output_type": "execute_result"
        }
      ],
      "source": [
        "np.percentile(x, 100)  # 최댓값"
      ]
    }
  ],
  "metadata": {
    "kernelspec": {
      "display_name": "Python 3",
      "language": "python",
      "name": "python3"
    },
    "language_info": {
      "codemirror_mode": {
        "name": "ipython",
        "version": 3
      },
      "file_extension": ".py",
      "mimetype": "text/x-python",
      "name": "python",
      "nbconvert_exporter": "python",
      "pygments_lexer": "ipython3",
      "version": "3.8.3"
    },
    "latex_envs": {
      "LaTeX_envs_menu_present": true,
      "autoclose": false,
      "autocomplete": true,
      "bibliofile": "biblio.bib",
      "cite_by": "apalike",
      "current_citInitial": 1,
      "eqLabelWithNumbers": true,
      "eqNumInitial": 1,
      "hotkeys": {
        "equation": "Ctrl-E",
        "itemize": "Ctrl-I"
      },
      "labels_anchors": false,
      "latex_user_defs": false,
      "report_style_numbering": false,
      "user_envs_cfg": false
    },
    "colab": {
      "provenance": [],
      "include_colab_link": true
    }
  },
  "nbformat": 4,
  "nbformat_minor": 0
}