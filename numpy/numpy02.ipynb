{
  "cells": [
    {
      "cell_type": "markdown",
      "metadata": {
        "id": "view-in-github",
        "colab_type": "text"
      },
      "source": [
        "<a href=\"https://colab.research.google.com/github/k2moon/python/blob/main/numpy/numpy02.ipynb\" target=\"_parent\"><img src=\"https://colab.research.google.com/assets/colab-badge.svg\" alt=\"Open In Colab\"/></a>"
      ]
    },
    {
      "cell_type": "markdown",
      "metadata": {
        "school_cell_uuid": "4e7a40fb49b24c27ba1c62ef2f52ecc4",
        "id": "nyJSrFPh96Bq"
      },
      "source": [
        "# 3.2 배열의 생성과 변형"
      ]
    },
    {
      "cell_type": "markdown",
      "metadata": {
        "school_cell_uuid": "fe1695a18e6f49a5aede6e03f1457f41",
        "id": "lJVvBcRf96Bw"
      },
      "source": [
        "## 넘파이의 자료형"
      ]
    },
    {
      "cell_type": "markdown",
      "metadata": {
        "id": "MxNVi8-T96Bx"
      },
      "source": [
        "```{margin}\n",
        "`dtype`\n",
        "```"
      ]
    },
    {
      "cell_type": "markdown",
      "metadata": {
        "school_cell_uuid": "febc877ad92f4d9aa32063d5700b2bd7",
        "id": "HX5BXxaf96By"
      },
      "source": [
        "넘파이의 배열 즉, `ndarray`클래스는 원소가 모두 같은 자료형이어야 한다. `array` 명령으로 배열을 만들 때 자료형을 명시적으로 적용하려면 `dtype` 인수를 사용한다. 만약 `dtype` 인수가 없으면 주어진 데이터를 저장할 수 있는 자료형을 스스로 유추한다. 만들어진 배열의 자료형을 알아내려면 `dtype` 속성을 보면 된다."
      ]
    },
    {
      "cell_type": "code",
      "execution_count": null,
      "metadata": {
        "school_cell_uuid": "9134e74d7b074bbf978d365e658c7c42",
        "id": "B1zvYQMX96By",
        "outputId": "19bd1138-23d6-4782-c0db-62c27c720498"
      },
      "outputs": [
        {
          "data": {
            "text/plain": [
              "dtype('int64')"
            ]
          },
          "execution_count": 1,
          "metadata": {},
          "output_type": "execute_result"
        }
      ],
      "source": [
        "x = np.array([1, 2, 3])\n",
        "x.dtype"
      ]
    },
    {
      "cell_type": "code",
      "execution_count": null,
      "metadata": {
        "school_cell_uuid": "30680991c7bb4857ac85c1b4693d207a",
        "id": "cdNASa_f96B0",
        "outputId": "967f56b2-836c-4259-ded5-2552ae604a3f"
      },
      "outputs": [
        {
          "data": {
            "text/plain": [
              "dtype('float64')"
            ]
          },
          "execution_count": 2,
          "metadata": {},
          "output_type": "execute_result"
        }
      ],
      "source": [
        "x = np.array([1.0, 2.0, 3.0])\n",
        "x.dtype"
      ]
    },
    {
      "cell_type": "code",
      "execution_count": null,
      "metadata": {
        "school_cell_uuid": "39de98abd11c427495aaa1eb907e677d",
        "id": "gj5HZ9BM96B1",
        "outputId": "6d715753-c520-40a1-9dbf-08dd7b92df60"
      },
      "outputs": [
        {
          "data": {
            "text/plain": [
              "dtype('float64')"
            ]
          },
          "execution_count": 3,
          "metadata": {},
          "output_type": "execute_result"
        }
      ],
      "source": [
        "x = np.array([1, 2, 3.0])\n",
        "x.dtype"
      ]
    },
    {
      "cell_type": "markdown",
      "metadata": {
        "school_cell_uuid": "4be2f0907d3b4b50a10b3dd7be321c07",
        "id": "JqA6xMMp96B2"
      },
      "source": [
        " `dtype` 인수로 지정할 자료형은 다음 표에 보인것과 같은 \"dtype 접두사\"로 시작하는 문자열이고 이 글자 뒤에 오는 숫자는 바이트 수 혹은 글자 수를 의미한다. 예를 들어 `f8`은 8바이트(64비트) 부동소수점 실수를 뜻하고 `U4` 는 4글자 유니코드 문자열을 뜻한다. 숫자를 생략하면 운영체제에 따라 알맞은 크기를 지정한다."
      ]
    },
    {
      "cell_type": "markdown",
      "metadata": {
        "school_cell_uuid": "5b61d2f3a3a843c5ad1f7b2b9584c6fd",
        "id": "pS5cYARq96B2"
      },
      "source": [
        "| dtype 접두사 | 설명 | 사용 예 |\n",
        "|-|-|-|\n",
        "| `b` | 불리언 | `b` (참 혹은 거짓) | \n",
        "| `i` | 정수 | `i8` (64비트) | \n",
        "| `u` | 부호 없는 정수 | `u8` (64비트) | \n",
        "| `f` | 부동소수점 | `f8` (64비트) | \n",
        "| `c` | 복소 부동소수점 | `c16` (128비트) | \n",
        "| `O` | 객체 | `0` (객체에 대한 포인터) | \n",
        "| `S` | 바이트 문자열 | `S24` (24 글자) | \n",
        "| `U` | 유니코드 문자열 | `U24` (24 유니코드 글자) | "
      ]
    },
    {
      "cell_type": "code",
      "execution_count": null,
      "metadata": {
        "school_cell_uuid": "ff8c50f45c624eccbdfe2b51116da467",
        "id": "HbD7djS096B3",
        "outputId": "26cbe900-e10f-4a37-e379-288e9c037cb2"
      },
      "outputs": [
        {
          "data": {
            "text/plain": [
              "dtype('float32')"
            ]
          },
          "execution_count": 4,
          "metadata": {},
          "output_type": "execute_result"
        }
      ],
      "source": [
        "x = np.array([1, 2, 3], dtype='f')\n",
        "x.dtype"
      ]
    },
    {
      "cell_type": "code",
      "execution_count": null,
      "metadata": {
        "school_cell_uuid": "6d26e85b2d694b44919f76a7ab9925aa",
        "id": "GnjJ3WhA96B4",
        "outputId": "82590aed-7fe5-4980-bf17-87dba52c59be"
      },
      "outputs": [
        {
          "data": {
            "text/plain": [
              "3.0"
            ]
          },
          "execution_count": 5,
          "metadata": {},
          "output_type": "execute_result"
        }
      ],
      "source": [
        "x[0] + x[1]"
      ]
    },
    {
      "cell_type": "code",
      "execution_count": null,
      "metadata": {
        "school_cell_uuid": "e1e98736aba64814ba4f164236752ff8",
        "id": "MXZSeQcC96B4",
        "outputId": "77dc70fe-662c-4101-89cd-3d8cfd0dc7d8"
      },
      "outputs": [
        {
          "data": {
            "text/plain": [
              "dtype('<U1')"
            ]
          },
          "execution_count": 6,
          "metadata": {},
          "output_type": "execute_result"
        }
      ],
      "source": [
        "x = np.array([1, 2, 3], dtype='U')\n",
        "x.dtype"
      ]
    },
    {
      "cell_type": "code",
      "execution_count": null,
      "metadata": {
        "school_cell_uuid": "0dc7fe8448034c1187b8d53ffb8604bb",
        "id": "ZZFC2NSG96B5",
        "outputId": "74f4d498-5021-48d9-f831-2d8a4b28181c"
      },
      "outputs": [
        {
          "data": {
            "text/plain": [
              "'12'"
            ]
          },
          "execution_count": 7,
          "metadata": {},
          "output_type": "execute_result"
        }
      ],
      "source": [
        "x[0] + x[1]"
      ]
    },
    {
      "cell_type": "markdown",
      "metadata": {
        "school_cell_uuid": "59469678d34a455d88825371f2ba4b10",
        "id": "mS0Xg6_b96B5"
      },
      "source": [
        "## `Inf`와 `NaN`"
      ]
    },
    {
      "cell_type": "markdown",
      "metadata": {
        "id": "klzlD6tb96B5"
      },
      "source": [
        "```{margin}\n",
        "`Inf`\n",
        "```"
      ]
    },
    {
      "cell_type": "markdown",
      "metadata": {
        "id": "5JYskqNy96B6"
      },
      "source": [
        "```{margin}\n",
        "`NaN`\n",
        "```"
      ]
    },
    {
      "cell_type": "markdown",
      "metadata": {
        "school_cell_uuid": "4be51b6fd04c41f09327e3d72c2153ee",
        "id": "HbZGSFz-96B6"
      },
      "source": [
        "넘파이에서는 무한대를 표현하기 위한 `np.inf`(infinity)와 정의할 수 없는 숫자를 나타내는 `np.nan`(not a number)을 사용할 수 있다. 다음 예와 같이 1을 0으로 나누려고 하거나 0에 대한 로그 값을 계산하면 무한대인 `np.inf`이 나온다. 0을 0으로 나누려고 시도하면 `np.nan`이 나온다."
      ]
    },
    {
      "cell_type": "code",
      "execution_count": null,
      "metadata": {
        "school_cell_uuid": "b4ed693f975a4d7da05af4252d47f30d",
        "id": "7_ImqeC496B6",
        "outputId": "c422263e-3895-4c60-e385-40604953d42a"
      },
      "outputs": [
        {
          "data": {
            "text/plain": [
              "array([  0.,  inf, -inf,  nan])"
            ]
          },
          "execution_count": 8,
          "metadata": {},
          "output_type": "execute_result"
        }
      ],
      "source": [
        "np.array([0, 1, -1, 0]) / np.array([1, 0, 0, 0])"
      ]
    },
    {
      "cell_type": "code",
      "execution_count": null,
      "metadata": {
        "school_cell_uuid": "0ecf09051db4488f8bb7831bc0a46ee4",
        "id": "LToEANB796B7",
        "outputId": "3259f378-95a9-465f-9e03-ba7a586bcda6"
      },
      "outputs": [
        {
          "data": {
            "text/plain": [
              "-inf"
            ]
          },
          "execution_count": 9,
          "metadata": {},
          "output_type": "execute_result"
        }
      ],
      "source": [
        "np.log(0)"
      ]
    },
    {
      "cell_type": "code",
      "execution_count": null,
      "metadata": {
        "school_cell_uuid": "3e564112200a45c097123f09688375a1",
        "id": "TQW38qej96B7",
        "outputId": "66f9caed-6852-4175-a0c7-37c2d9fd171c"
      },
      "outputs": [
        {
          "data": {
            "text/plain": [
              "0.0"
            ]
          },
          "execution_count": 10,
          "metadata": {},
          "output_type": "execute_result"
        }
      ],
      "source": [
        "np.exp(-np.inf)"
      ]
    },
    {
      "cell_type": "markdown",
      "metadata": {
        "school_cell_uuid": "1cdcb42b3e724cff877530732ddf7d46",
        "id": "Z2lAnhg396B7"
      },
      "source": [
        "## 배열 생성"
      ]
    },
    {
      "cell_type": "markdown",
      "metadata": {
        "school_cell_uuid": "42a8ae213d734409a35527275c0b4264",
        "id": "s_SRbXVI96B8"
      },
      "source": [
        "NumPy는 몇가지 단순한 배열을 생성하는 명령을 제공한다.\n",
        " \n",
        "* `zeros`, `ones`\n",
        "* `zeros_like`, `ones_like`\n",
        "* `empty`\n",
        "* `arange`\n",
        "* `linspace`, `logspace`"
      ]
    },
    {
      "cell_type": "markdown",
      "metadata": {
        "id": "_boqFg8j96B8"
      },
      "source": [
        "```{margin}\n",
        "`zeros`\n",
        "```"
      ]
    },
    {
      "cell_type": "markdown",
      "metadata": {
        "school_cell_uuid": "7c79b2111e3e438eb66470e15acc0c78",
        "id": "Eywx2jOB96B8"
      },
      "source": [
        "크기가 정해져 있고 모든 값이 0인 배열을 생성하려면 `zeros` 명령을 사용한다. 인수로는 배열을 크기를 뜻하는 정수를 넣는다."
      ]
    },
    {
      "cell_type": "code",
      "execution_count": null,
      "metadata": {
        "school_cell_uuid": "0450ddaee8694b2d8297b1b15035182b",
        "id": "IkQud4wr96B9",
        "outputId": "16dba0c5-6248-4c72-8f82-db187b1933c1"
      },
      "outputs": [
        {
          "data": {
            "text/plain": [
              "array([0., 0., 0., 0., 0.])"
            ]
          },
          "execution_count": 11,
          "metadata": {},
          "output_type": "execute_result"
        }
      ],
      "source": [
        "a = np.zeros(5)\n",
        "a"
      ]
    },
    {
      "cell_type": "markdown",
      "metadata": {
        "school_cell_uuid": "128099e12e224f7daa7967d737681571",
        "id": "7J4I9Mlq96B9"
      },
      "source": [
        "크기를 뜻하는 튜플을 입력하면 다차원 배열도 만들 수 있다."
      ]
    },
    {
      "cell_type": "code",
      "execution_count": null,
      "metadata": {
        "school_cell_uuid": "4f578f16747a471aafb9094e27f897d9",
        "id": "8-NA6BMf96B-",
        "outputId": "d25d1314-62ff-4c96-a292-4d6269bdddb7"
      },
      "outputs": [
        {
          "data": {
            "text/plain": [
              "array([[0., 0., 0.],\n",
              "       [0., 0., 0.]])"
            ]
          },
          "execution_count": 12,
          "metadata": {},
          "output_type": "execute_result"
        }
      ],
      "source": [
        "b = np.zeros((2, 3))\n",
        "b"
      ]
    },
    {
      "cell_type": "markdown",
      "metadata": {
        "school_cell_uuid": "ff1a3dc84bd44470820a5c0b34e3b437",
        "id": "VUU90fnM96B-"
      },
      "source": [
        "`array` 명령과 마찬가지로 `dtype` 인수를 명시하면 해당 자료형 원소를 가진 배열을 만든다."
      ]
    },
    {
      "cell_type": "code",
      "execution_count": null,
      "metadata": {
        "school_cell_uuid": "0638b07330ae4cd48dc4b928b51c274e",
        "id": "FmoeArND96B_",
        "outputId": "efa95288-dbd6-476d-b784-d55f85839e21"
      },
      "outputs": [
        {
          "data": {
            "text/plain": [
              "array([[0, 0],\n",
              "       [0, 0],\n",
              "       [0, 0],\n",
              "       [0, 0],\n",
              "       [0, 0]], dtype=int32)"
            ]
          },
          "execution_count": 13,
          "metadata": {},
          "output_type": "execute_result"
        }
      ],
      "source": [
        "c = np.zeros((5, 2), dtype=\"i\")\n",
        "c"
      ]
    },
    {
      "cell_type": "markdown",
      "metadata": {
        "school_cell_uuid": "9c28797b1d2f4b228db15e34bcfa1593",
        "id": "X-R2KL6-96B_"
      },
      "source": [
        "문자열 배열도 가능하지면 모든 원소의 문자열 크기가 같아야 한다. 만약 더 큰 크기의 문자열을 할당하면 잘릴 수 있다."
      ]
    },
    {
      "cell_type": "code",
      "execution_count": null,
      "metadata": {
        "school_cell_uuid": "3650282440d34d588621f1034c8a6c85",
        "id": "RRfkpISh96CA",
        "outputId": "a7f3afbd-d75c-4a84-ecb4-2ee0aae5f6c0"
      },
      "outputs": [
        {
          "data": {
            "text/plain": [
              "array(['', '', '', '', ''], dtype='<U4')"
            ]
          },
          "execution_count": 14,
          "metadata": {},
          "output_type": "execute_result"
        }
      ],
      "source": [
        "d = np.zeros(5, dtype=\"U4\")\n",
        "d"
      ]
    },
    {
      "cell_type": "code",
      "execution_count": null,
      "metadata": {
        "school_cell_uuid": "4988c5b5d8cb4b249d89cf6f2bfd87de",
        "id": "Ps54Y1hf96CA",
        "outputId": "e9a12564-e1b8-4f09-d427-b3be98c1aa5a"
      },
      "outputs": [
        {
          "data": {
            "text/plain": [
              "array(['abc', 'abcd', 'ABCD', '', ''], dtype='<U4')"
            ]
          },
          "execution_count": 15,
          "metadata": {},
          "output_type": "execute_result"
        }
      ],
      "source": [
        "d[0] = \"abc\"\n",
        "d[1] = \"abcd\"\n",
        "d[2] = \"ABCDE\"\n",
        "d"
      ]
    },
    {
      "cell_type": "markdown",
      "metadata": {
        "id": "g8PE067496CA"
      },
      "source": [
        "```{margin}\n",
        "`ones`\n",
        "```"
      ]
    },
    {
      "cell_type": "markdown",
      "metadata": {
        "school_cell_uuid": "278bf302cf734be6a097281158512c1e",
        "id": "aKZYfwPP96CA"
      },
      "source": [
        "0이 아닌 1로 초기화된 배열을 생성하려면 `ones` 명령을 사용한다."
      ]
    },
    {
      "cell_type": "code",
      "execution_count": null,
      "metadata": {
        "school_cell_uuid": "3c4d0f3f2ff84ac39390ced7385db2d2",
        "id": "r2EcMpvH96CA",
        "outputId": "db93bd93-d037-4506-f0de-47f8bc49ed4e"
      },
      "outputs": [
        {
          "data": {
            "text/plain": [
              "array([[[1, 1, 1, 1],\n",
              "        [1, 1, 1, 1],\n",
              "        [1, 1, 1, 1]],\n",
              "\n",
              "       [[1, 1, 1, 1],\n",
              "        [1, 1, 1, 1],\n",
              "        [1, 1, 1, 1]]])"
            ]
          },
          "execution_count": 16,
          "metadata": {},
          "output_type": "execute_result"
        }
      ],
      "source": [
        "e = np.ones((2, 3, 4), dtype=\"i8\")\n",
        "e"
      ]
    },
    {
      "cell_type": "markdown",
      "metadata": {
        "id": "RIqlyYkL96CB"
      },
      "source": [
        "```{margin}\n",
        "`zeros_like`\n",
        "```"
      ]
    },
    {
      "cell_type": "markdown",
      "metadata": {
        "id": "RDWJz2Xz96CB"
      },
      "source": [
        "```{margin}\n",
        "`ones_like`\n",
        "```"
      ]
    },
    {
      "cell_type": "markdown",
      "metadata": {
        "school_cell_uuid": "31a0e99a37ce4b04a48c1c6ab5d0722e",
        "id": "jMfzuENX96CB"
      },
      "source": [
        "만약 크기를 튜플로 명시하지 않고 다른 배열과 같은 크기의 배열을 생성하고 싶다면 `ones_like`, `zeros_like` 명령을 사용한다."
      ]
    },
    {
      "cell_type": "code",
      "execution_count": null,
      "metadata": {
        "school_cell_uuid": "27dc216486b1400e81701bf57a5bc3ec",
        "id": "p3HXNdga96CB",
        "outputId": "d739869d-f107-47cc-a373-abfdbac70fb5"
      },
      "outputs": [
        {
          "data": {
            "text/plain": [
              "array([[1., 1., 1.],\n",
              "       [1., 1., 1.]], dtype=float32)"
            ]
          },
          "execution_count": 17,
          "metadata": {},
          "output_type": "execute_result"
        }
      ],
      "source": [
        "f = np.ones_like(b, dtype=\"f\")\n",
        "f"
      ]
    },
    {
      "cell_type": "markdown",
      "metadata": {
        "id": "LRy898yA96CN"
      },
      "source": [
        "```{margin}\n",
        "`empty`\n",
        "```"
      ]
    },
    {
      "cell_type": "markdown",
      "metadata": {
        "school_cell_uuid": "7c81a8dce91e4bcf9160223928d6f52f",
        "id": "iBFj0O4-96CO"
      },
      "source": [
        "배열의 크기가 커지면 배열을 초기화하는데도 시간이 걸린다. 이 시간을 단축하려면 배열을 생성만 하고 특정한 값으로 초기화를 하지 않는 `empty` 명령을 사용할 수 있다. `empty` 명령으로 생성된 배열에는 기존에 메모리에 저장되어 있던 값이 있으므로 배열의 원소의 값을 미리 알 수 없다."
      ]
    },
    {
      "cell_type": "code",
      "execution_count": null,
      "metadata": {
        "school_cell_uuid": "37614cdedd624fa28a0f54441845892a",
        "id": "9d8WV2wV96CO",
        "outputId": "9daf6c7d-00e1-4043-84da-98dde01b68d2"
      },
      "outputs": [
        {
          "data": {
            "text/plain": [
              "array([[6.94820328e-310, 4.67533915e-310, 5.28964691e+180],\n",
              "       [6.01346953e-154, 4.81809028e+233, 7.86517465e+276],\n",
              "       [6.01346953e-154, 2.58408173e+161, 2.46600381e-154],\n",
              "       [2.47379808e-091, 4.47593816e-091, 6.01347002e-154]])"
            ]
          },
          "execution_count": 18,
          "metadata": {},
          "output_type": "execute_result"
        }
      ],
      "source": [
        "g = np.empty((4, 3))\n",
        "g"
      ]
    },
    {
      "cell_type": "markdown",
      "metadata": {
        "id": "Zu1ZGzVO96CP"
      },
      "source": [
        "```{margin}\n",
        "`arange`\n",
        "```"
      ]
    },
    {
      "cell_type": "markdown",
      "metadata": {
        "school_cell_uuid": "269accf0732f43be8912260ceb0a6609",
        "id": "NX6LY0lr96CP"
      },
      "source": [
        "`arange` 명령은 NumPy 버전의 `range` 명령이라고 볼 수 있다. 특정한 규칙에 따라 증가하는 수열을 만든다. "
      ]
    },
    {
      "cell_type": "code",
      "execution_count": null,
      "metadata": {
        "school_cell_uuid": "b732c7a3553247be989a6e35d79fb83a",
        "id": "iO_zzIFA96CQ",
        "outputId": "5b81a559-1360-4ff0-a7b0-1bdc2a9f21b6"
      },
      "outputs": [
        {
          "data": {
            "text/plain": [
              "array([0, 1, 2, 3, 4, 5, 6, 7, 8, 9])"
            ]
          },
          "execution_count": 19,
          "metadata": {},
          "output_type": "execute_result"
        }
      ],
      "source": [
        "np.arange(10)  # 0 .. n-1"
      ]
    },
    {
      "cell_type": "code",
      "execution_count": null,
      "metadata": {
        "school_cell_uuid": "d0cb5cefda834591987ce4dd5174644b",
        "id": "FiEIy86u96CQ",
        "outputId": "f4378b8d-4f43-48ac-8f61-2747428219ec"
      },
      "outputs": [
        {
          "data": {
            "text/plain": [
              "array([ 3,  5,  7,  9, 11, 13, 15, 17, 19])"
            ]
          },
          "execution_count": 20,
          "metadata": {},
          "output_type": "execute_result"
        }
      ],
      "source": [
        "np.arange(3, 21, 2)  # 시작, 끝(포함하지 않음), 단계"
      ]
    },
    {
      "cell_type": "markdown",
      "metadata": {
        "id": "kaE9JGU596CQ"
      },
      "source": [
        "```{margin}\n",
        "`linspace`\n",
        "```"
      ]
    },
    {
      "cell_type": "markdown",
      "metadata": {
        "id": "Lf40b_ws96CR"
      },
      "source": [
        "```{margin}\n",
        "`logspace`\n",
        "```"
      ]
    },
    {
      "cell_type": "markdown",
      "metadata": {
        "school_cell_uuid": "4320ced2361c452286d820e0d3f8cbfc",
        "id": "eyqUWU2696CR"
      },
      "source": [
        "`linspace` 명령이나 `logspace` 명령은 선형 구간 혹은 로그 구간을 지정한 구간의 수만큼 분할한다."
      ]
    },
    {
      "cell_type": "code",
      "execution_count": null,
      "metadata": {
        "school_cell_uuid": "7e36ecf98ff347eda7659c2d5455b690",
        "id": "L1tMcDf696CR",
        "outputId": "f8eb3580-c094-49ab-b081-9ca684f70d1a"
      },
      "outputs": [
        {
          "data": {
            "text/plain": [
              "array([  0.,  25.,  50.,  75., 100.])"
            ]
          },
          "execution_count": 21,
          "metadata": {},
          "output_type": "execute_result"
        }
      ],
      "source": [
        "np.linspace(0, 100, 5)  # 시작, 끝(포함), 갯수"
      ]
    },
    {
      "cell_type": "code",
      "execution_count": null,
      "metadata": {
        "id": "lD9vE5Wv96CR",
        "outputId": "41ecb1e7-6e8d-4e5d-e9b5-f30ee320d364"
      },
      "outputs": [
        {
          "data": {
            "text/plain": [
              "array([ 1.25892541,  1.58489319,  1.99526231,  2.51188643,  3.16227766,\n",
              "        3.98107171,  5.01187234,  6.30957344,  7.94328235, 10.        ])"
            ]
          },
          "execution_count": 22,
          "metadata": {},
          "output_type": "execute_result"
        }
      ],
      "source": [
        "np.logspace(0.1, 1, 10)"
      ]
    },
    {
      "cell_type": "markdown",
      "metadata": {
        "school_cell_uuid": "cb988d063cd840b68a59d818c9f9d05f",
        "id": "dUmOzEKU96CS"
      },
      "source": [
        "## 전치 연산"
      ]
    },
    {
      "cell_type": "markdown",
      "metadata": {
        "id": "DUpGLJ6Q96CS"
      },
      "source": [
        "```{margin}\n",
        "`T`\n",
        "```"
      ]
    },
    {
      "cell_type": "markdown",
      "metadata": {
        "school_cell_uuid": "853b2b53a6bc44548ed80a81cde207e3",
        "id": "WDxgNcBh96CS"
      },
      "source": [
        "2차원 배열의 전치(transpose) 연산은 행과 열을 바꾸는 작업이다. 이는 배열의 `T` 속성으로 구할 수 있다. 메서드가 아닌 속성이라는 점에 유의 한다."
      ]
    },
    {
      "cell_type": "code",
      "execution_count": null,
      "metadata": {
        "school_cell_uuid": "67ac6fc81b6c49a1854e86e7ed258cb0",
        "id": "iXswjP2u96CS",
        "outputId": "a870e012-e73a-4112-c1fd-260ce4f783f6"
      },
      "outputs": [
        {
          "data": {
            "text/plain": [
              "array([[1, 2, 3],\n",
              "       [4, 5, 6]])"
            ]
          },
          "execution_count": 23,
          "metadata": {},
          "output_type": "execute_result"
        }
      ],
      "source": [
        "A = np.array([[1, 2, 3], [4, 5, 6]])\n",
        "A"
      ]
    },
    {
      "cell_type": "code",
      "execution_count": null,
      "metadata": {
        "school_cell_uuid": "bbf3f0afd4054d158fe959a3df08e254",
        "id": "_uyqCjdj96CS",
        "outputId": "0d61897b-8727-4580-baf9-15a0aedd1ac4"
      },
      "outputs": [
        {
          "data": {
            "text/plain": [
              "array([[1, 4],\n",
              "       [2, 5],\n",
              "       [3, 6]])"
            ]
          },
          "execution_count": 24,
          "metadata": {},
          "output_type": "execute_result"
        }
      ],
      "source": [
        "A.T"
      ]
    },
    {
      "cell_type": "markdown",
      "metadata": {
        "school_cell_uuid": "e051247ba49240a79a260dc42ea0eec8",
        "id": "dIPSf3Wl96CT"
      },
      "source": [
        "## 배열의 크기 변형"
      ]
    },
    {
      "cell_type": "markdown",
      "metadata": {
        "id": "CE4eWPX996CT"
      },
      "source": [
        "```{margin}\n",
        "`reshape`\n",
        "```"
      ]
    },
    {
      "cell_type": "markdown",
      "metadata": {
        "school_cell_uuid": "801fa3c18fae453084b3da2c5fb3f671",
        "id": "PqYp-rqu96CT"
      },
      "source": [
        "일단 만들어진 배열의 내부 데이터는 보존한 채로 형태만 바꾸려면 `reshape` 명령이나 메서드를 사용한다. 예를 들어 12개의 원소를 가진 1차원 행렬은 3x4 형태의 2차원 행렬로 만들 수 있다."
      ]
    },
    {
      "cell_type": "code",
      "execution_count": null,
      "metadata": {
        "school_cell_uuid": "8b76f25bf4684e0b97520db76f09688e",
        "id": "b1XphgGy96CT",
        "outputId": "100e5481-3ed2-41b2-ffdf-8eec97917e1d"
      },
      "outputs": [
        {
          "data": {
            "text/plain": [
              "array([ 0,  1,  2,  3,  4,  5,  6,  7,  8,  9, 10, 11])"
            ]
          },
          "execution_count": 25,
          "metadata": {},
          "output_type": "execute_result"
        }
      ],
      "source": [
        "a = np.arange(12)\n",
        "a"
      ]
    },
    {
      "cell_type": "code",
      "execution_count": null,
      "metadata": {
        "school_cell_uuid": "0652bfe7847a4c1fa3bbcc77623598dc",
        "id": "5bS4-qSB96CU",
        "outputId": "9f321f00-222c-4340-91b6-51a7697bbb15"
      },
      "outputs": [
        {
          "data": {
            "text/plain": [
              "array([[ 0,  1,  2,  3],\n",
              "       [ 4,  5,  6,  7],\n",
              "       [ 8,  9, 10, 11]])"
            ]
          },
          "execution_count": 26,
          "metadata": {},
          "output_type": "execute_result"
        }
      ],
      "source": [
        "b = a.reshape(3, 4)\n",
        "b"
      ]
    },
    {
      "cell_type": "markdown",
      "metadata": {
        "school_cell_uuid": "6e46b05e869747b1ae07074efebe4597",
        "id": "PehrisDm96CU"
      },
      "source": [
        "사용하는 원소의 갯수가 정해저 있기 때문에 `reshape` 명령의 형태 튜플의 원소 중 하나는 -1이라는 숫자로 대체할 수 있다. -1을 넣으면 해당 숫자는 다를 값에서 계산되어 사용된다."
      ]
    },
    {
      "cell_type": "code",
      "execution_count": null,
      "metadata": {
        "school_cell_uuid": "f04885d56e174f638ef35803c0057597",
        "id": "-zVPpb3f96CU",
        "outputId": "021aa887-f2fa-471a-cff9-c4d8a1a9455d"
      },
      "outputs": [
        {
          "data": {
            "text/plain": [
              "array([[ 0,  1,  2,  3],\n",
              "       [ 4,  5,  6,  7],\n",
              "       [ 8,  9, 10, 11]])"
            ]
          },
          "execution_count": 27,
          "metadata": {},
          "output_type": "execute_result"
        }
      ],
      "source": [
        "a.reshape(3, -1)"
      ]
    },
    {
      "cell_type": "code",
      "execution_count": null,
      "metadata": {
        "school_cell_uuid": "81f66a4782c74011a5143a10cb21728b",
        "id": "GFQXt5Ej96CU",
        "outputId": "1d5a8699-4ac2-4d6c-db6b-da92ec09891e"
      },
      "outputs": [
        {
          "data": {
            "text/plain": [
              "array([[[ 0,  1,  2],\n",
              "        [ 3,  4,  5]],\n",
              "\n",
              "       [[ 6,  7,  8],\n",
              "        [ 9, 10, 11]]])"
            ]
          },
          "execution_count": 28,
          "metadata": {},
          "output_type": "execute_result"
        }
      ],
      "source": [
        "a.reshape(2, 2, -1)"
      ]
    },
    {
      "cell_type": "code",
      "execution_count": null,
      "metadata": {
        "school_cell_uuid": "1aa82c72705f4adca24100997b321ec8",
        "id": "tNNZJuoq96CU",
        "outputId": "64a7e214-f5d6-4047-f666-8d4deb68e4db"
      },
      "outputs": [
        {
          "data": {
            "text/plain": [
              "array([[[ 0,  1],\n",
              "        [ 2,  3],\n",
              "        [ 4,  5]],\n",
              "\n",
              "       [[ 6,  7],\n",
              "        [ 8,  9],\n",
              "        [10, 11]]])"
            ]
          },
          "execution_count": 29,
          "metadata": {},
          "output_type": "execute_result"
        }
      ],
      "source": [
        "a.reshape(2, -1, 2)"
      ]
    },
    {
      "cell_type": "markdown",
      "metadata": {
        "id": "bj15aTNW96CV"
      },
      "source": [
        "```{margin}\n",
        "`flatten`\n",
        "```"
      ]
    },
    {
      "cell_type": "markdown",
      "metadata": {
        "id": "4eFOjS0G96CV"
      },
      "source": [
        "```{margin}\n",
        "`ravel`\n",
        "```"
      ]
    },
    {
      "cell_type": "markdown",
      "metadata": {
        "school_cell_uuid": "8c338a382a704ee8b4ecb1f14639b9a5",
        "id": "Hv57thZ796CV"
      },
      "source": [
        "다차원 배열을 무조건 1차원으로 만들기 위해서는 `flatten` 나 `ravel` 메서드를 사용한다."
      ]
    },
    {
      "cell_type": "code",
      "execution_count": null,
      "metadata": {
        "school_cell_uuid": "da52ccdff6824783a9151e544f3910c4",
        "id": "ucTtTqvc96CV",
        "outputId": "7ae8af1d-8450-4e53-a416-3751718a7918"
      },
      "outputs": [
        {
          "data": {
            "text/plain": [
              "array([ 0,  1,  2,  3,  4,  5,  6,  7,  8,  9, 10, 11])"
            ]
          },
          "execution_count": 30,
          "metadata": {},
          "output_type": "execute_result"
        }
      ],
      "source": [
        "a.flatten()"
      ]
    },
    {
      "cell_type": "code",
      "execution_count": null,
      "metadata": {
        "id": "11AnA-8Z96CW",
        "outputId": "a9925d67-9fd5-4b47-c2f7-3b277915ca8a"
      },
      "outputs": [
        {
          "data": {
            "text/plain": [
              "array([ 0,  1,  2,  3,  4,  5,  6,  7,  8,  9, 10, 11])"
            ]
          },
          "execution_count": 31,
          "metadata": {},
          "output_type": "execute_result"
        }
      ],
      "source": [
        "a.ravel()"
      ]
    },
    {
      "cell_type": "markdown",
      "metadata": {
        "school_cell_uuid": "7449061930ec4f969f45cfbb9f4d7827",
        "id": "b92YuzEJ96CW"
      },
      "source": [
        "배열 사용에서 주의할 점은 길이가 5인 1차원 배열과 행, 열의 갯수가 (5,1)인 2차원 배열 또는 행, 열의 갯수가 (1, 5)인 2차원 배열은 데이터가 같아도 엄연히 다른 객체라는 점이다."
      ]
    },
    {
      "cell_type": "code",
      "execution_count": null,
      "metadata": {
        "school_cell_uuid": "32555d00be434211a940618642f9e2eb",
        "id": "1x2ZCj8-96CW",
        "outputId": "73acee69-a275-4cc0-b052-b95df35ad98d"
      },
      "outputs": [
        {
          "data": {
            "text/plain": [
              "array([0, 1, 2, 3, 4])"
            ]
          },
          "execution_count": 2,
          "metadata": {},
          "output_type": "execute_result"
        }
      ],
      "source": [
        "x = np.arange(5)\n",
        "x"
      ]
    },
    {
      "cell_type": "code",
      "execution_count": null,
      "metadata": {
        "school_cell_uuid": "efe31ebd189642e2a303e12e7c1a73d3",
        "id": "IwGGQOLX96CX",
        "outputId": "963b8dd4-5036-43f0-d9e1-a83c4468e74e"
      },
      "outputs": [
        {
          "data": {
            "text/plain": [
              "array([[0, 1, 2, 3, 4]])"
            ]
          },
          "execution_count": 3,
          "metadata": {},
          "output_type": "execute_result"
        }
      ],
      "source": [
        "x.reshape(1, 5)"
      ]
    },
    {
      "cell_type": "code",
      "execution_count": null,
      "metadata": {
        "school_cell_uuid": "efe31ebd189642e2a303e12e7c1a73d3",
        "id": "XJXjWcDj96CX",
        "outputId": "cc8c0518-9678-4566-ed05-ca06c9cc1179"
      },
      "outputs": [
        {
          "data": {
            "text/plain": [
              "array([[0],\n",
              "       [1],\n",
              "       [2],\n",
              "       [3],\n",
              "       [4]])"
            ]
          },
          "execution_count": 34,
          "metadata": {},
          "output_type": "execute_result"
        }
      ],
      "source": [
        "x.reshape(5, 1)"
      ]
    },
    {
      "cell_type": "markdown",
      "metadata": {
        "id": "Y4talXJu96CY"
      },
      "source": [
        "```{margin}\n",
        "`newaxis`\n",
        "```"
      ]
    },
    {
      "cell_type": "markdown",
      "metadata": {
        "school_cell_uuid": "daed5b308d1042898d77660217a6a9b8",
        "id": "WSvxdVHy96CY"
      },
      "source": [
        "이렇게 같은 배열에 대해 차원만 1차원 증가시키는 경우에는 `newaxis` 명령을 사용하기도 한다."
      ]
    },
    {
      "cell_type": "code",
      "execution_count": null,
      "metadata": {
        "school_cell_uuid": "e612956a1722400091c08ba9bcc7bc6a",
        "id": "fUj3t0_W96CY",
        "outputId": "5129ee17-5eaf-49e5-8c1e-c7840de892ea"
      },
      "outputs": [
        {
          "data": {
            "text/plain": [
              "array([[0],\n",
              "       [1],\n",
              "       [2],\n",
              "       [3],\n",
              "       [4]])"
            ]
          },
          "execution_count": 35,
          "metadata": {},
          "output_type": "execute_result"
        }
      ],
      "source": [
        "x[:, np.newaxis]"
      ]
    },
    {
      "cell_type": "markdown",
      "metadata": {
        "school_cell_uuid": "4b3e0edbc5e7492796eac84d7a5e2257",
        "id": "z71_492g96CZ"
      },
      "source": [
        "## 배열 연결"
      ]
    },
    {
      "cell_type": "markdown",
      "metadata": {
        "school_cell_uuid": "2af818f0ef1e42ffad476c9c4695274a",
        "id": "q3ih1iyt96Ca"
      },
      "source": [
        "행의 수나 열의 수가 같은 두 개 이상의 배열을 연결하여(concatenate) 더 큰 배열을 만들 때는 다음과 같은 명령을 사용한다.\n",
        "\n",
        "* `hstack`\n",
        "* `vstack`\n",
        "* `dstack`\n",
        "* `stack`\n",
        "* `r_`\n",
        "* `c_`\n",
        "* `tile`"
      ]
    },
    {
      "cell_type": "markdown",
      "metadata": {
        "id": "H_swZyxO96Ca"
      },
      "source": [
        "```{margin}\n",
        "`hstack`\n",
        "```"
      ]
    },
    {
      "cell_type": "markdown",
      "metadata": {
        "school_cell_uuid": "bf7a339a3dbf4c1888da5f1c65d0a4df",
        "id": "0Waw6ZOn96Ca"
      },
      "source": [
        "`hstack` 명령은 행의 수가 같은 두 개 이상의 배열을 옆으로 연결하여 열의 수가 더 많은 배열을 만든다. 연결할 배열은 하나의 리스트에 담아야 한다."
      ]
    },
    {
      "cell_type": "code",
      "execution_count": null,
      "metadata": {
        "school_cell_uuid": "88a84a888e994a3bbf68e0430ac79860",
        "id": "XuF9DbO696Ca",
        "outputId": "9ab27932-9446-4c06-a081-e5a5dffd0eea"
      },
      "outputs": [
        {
          "data": {
            "text/plain": [
              "array([[1., 1., 1.],\n",
              "       [1., 1., 1.]])"
            ]
          },
          "execution_count": 36,
          "metadata": {},
          "output_type": "execute_result"
        }
      ],
      "source": [
        "a1 = np.ones((2, 3))\n",
        "a1"
      ]
    },
    {
      "cell_type": "code",
      "execution_count": null,
      "metadata": {
        "school_cell_uuid": "d8d4aadda3634cefb9c9f93248d28dec",
        "id": "PD9J30ye96Cb",
        "outputId": "bf5d758f-5861-4197-ef44-b7517b7e7277"
      },
      "outputs": [
        {
          "data": {
            "text/plain": [
              "array([[0., 0.],\n",
              "       [0., 0.]])"
            ]
          },
          "execution_count": 37,
          "metadata": {},
          "output_type": "execute_result"
        }
      ],
      "source": [
        "a2 = np.zeros((2, 2))\n",
        "a2"
      ]
    },
    {
      "cell_type": "code",
      "execution_count": null,
      "metadata": {
        "school_cell_uuid": "55da73c949884fcdbb8a7244be95ecc3",
        "id": "g87tC9NC96Cb",
        "outputId": "6cd4b832-fad6-4132-e14c-8516cc992b88"
      },
      "outputs": [
        {
          "data": {
            "text/plain": [
              "array([[1., 1., 1., 0., 0.],\n",
              "       [1., 1., 1., 0., 0.]])"
            ]
          },
          "execution_count": 38,
          "metadata": {},
          "output_type": "execute_result"
        }
      ],
      "source": [
        "np.hstack([a1, a2])"
      ]
    },
    {
      "cell_type": "markdown",
      "metadata": {
        "id": "BzUoTThr96Cb"
      },
      "source": [
        "```{margin}\n",
        "`vstack`\n",
        "```"
      ]
    },
    {
      "cell_type": "markdown",
      "metadata": {
        "school_cell_uuid": "45b042132e8242ee83a82ea8b76ae52e",
        "id": "lXYPQq0N96Cb"
      },
      "source": [
        "`vstack` 명령은 열의 수가 같은 두 개 이상의 배열을 위아래로 연결하여 행의 수가 더 많은 배열을 만든다. 연결할 배열은 마찬가지로 하나의 리스트에 담아야 한다."
      ]
    },
    {
      "cell_type": "code",
      "execution_count": null,
      "metadata": {
        "school_cell_uuid": "9a90c72a781a446eab015b05d0521cd5",
        "id": "IjeBNcHj96Cc",
        "outputId": "daded7c5-4c48-45ee-afcf-afcfbdb290cd"
      },
      "outputs": [
        {
          "data": {
            "text/plain": [
              "array([[1., 1., 1.],\n",
              "       [1., 1., 1.]])"
            ]
          },
          "execution_count": 39,
          "metadata": {},
          "output_type": "execute_result"
        }
      ],
      "source": [
        "b1 = np.ones((2, 3))\n",
        "b1"
      ]
    },
    {
      "cell_type": "code",
      "execution_count": null,
      "metadata": {
        "school_cell_uuid": "087a1f7e8cd74acc95060ebd02261437",
        "id": "tQRC70My96Cc",
        "outputId": "2128de27-3c4d-4dd4-81e6-88cb5f7f9c33"
      },
      "outputs": [
        {
          "data": {
            "text/plain": [
              "array([[0., 0., 0.],\n",
              "       [0., 0., 0.],\n",
              "       [0., 0., 0.]])"
            ]
          },
          "execution_count": 40,
          "metadata": {},
          "output_type": "execute_result"
        }
      ],
      "source": [
        "b2 = np.zeros((3, 3))\n",
        "b2"
      ]
    },
    {
      "cell_type": "code",
      "execution_count": null,
      "metadata": {
        "school_cell_uuid": "30bccce9ef044067b14d7bd6ee5179da",
        "id": "_mGm1GoE96Cc",
        "outputId": "2d5fc84e-d475-4e07-b593-b68496cc8aa3"
      },
      "outputs": [
        {
          "data": {
            "text/plain": [
              "array([[1., 1., 1.],\n",
              "       [1., 1., 1.],\n",
              "       [0., 0., 0.],\n",
              "       [0., 0., 0.],\n",
              "       [0., 0., 0.]])"
            ]
          },
          "execution_count": 41,
          "metadata": {},
          "output_type": "execute_result"
        }
      ],
      "source": [
        "np.vstack([b1, b2])"
      ]
    },
    {
      "cell_type": "markdown",
      "metadata": {
        "id": "Osfx4d2F96Cc"
      },
      "source": [
        "```{margin}\n",
        "`dstack`\n",
        "```"
      ]
    },
    {
      "cell_type": "markdown",
      "metadata": {
        "school_cell_uuid": "a95f8e68c8954378a6bfa672e632fce0",
        "id": "d0ha7Cex96Cd"
      },
      "source": [
        "`dstack` 명령은 제3의 축 즉, 행이나 열이 아닌 깊이(depth) 방향으로 배열을 합친다. 가장 안쪽의 원소의 차원이 증가한다. 즉 가장 내부의 숫자 원소가 배열이 된다. shape 정보로 보자면 가장 끝에 값이 2인 차원이 추가되는 것이다.이 예제의 경우에는 shape 변화가 2개의 (3 x 4) -> 1개의 (3 x 4 x **2**)가 된다."
      ]
    },
    {
      "cell_type": "code",
      "execution_count": null,
      "metadata": {
        "school_cell_uuid": "27186ffea90b42c1b35559f4ffb8c262",
        "id": "dfWqd1Z196Cd",
        "outputId": "a456890b-a5b4-4b43-cfa2-735682ad2efd"
      },
      "outputs": [
        {
          "data": {
            "text/plain": [
              "array([[1., 1., 1., 1.],\n",
              "       [1., 1., 1., 1.],\n",
              "       [1., 1., 1., 1.]])"
            ]
          },
          "execution_count": 42,
          "metadata": {},
          "output_type": "execute_result"
        }
      ],
      "source": [
        "c1 = np.ones((3, 4))\n",
        "c1"
      ]
    },
    {
      "cell_type": "code",
      "execution_count": null,
      "metadata": {
        "school_cell_uuid": "ea73e674615a4adab9381f357c7c98f8",
        "id": "toMbwHkS96Cd",
        "outputId": "42fa90a5-2576-469a-d81c-5d49d1e10425"
      },
      "outputs": [
        {
          "data": {
            "text/plain": [
              "array([[0., 0., 0., 0.],\n",
              "       [0., 0., 0., 0.],\n",
              "       [0., 0., 0., 0.]])"
            ]
          },
          "execution_count": 43,
          "metadata": {},
          "output_type": "execute_result"
        }
      ],
      "source": [
        "c2 = np.zeros((3, 4))\n",
        "c2"
      ]
    },
    {
      "cell_type": "code",
      "execution_count": null,
      "metadata": {
        "school_cell_uuid": "0978be1cd9d44954a83e9e132be02c42",
        "id": "EpJjs78j96Ce",
        "outputId": "3f3caf4a-fc04-46a1-9c52-0346964bc1ae"
      },
      "outputs": [
        {
          "data": {
            "text/plain": [
              "array([[[1., 0.],\n",
              "        [1., 0.],\n",
              "        [1., 0.],\n",
              "        [1., 0.]],\n",
              "\n",
              "       [[1., 0.],\n",
              "        [1., 0.],\n",
              "        [1., 0.],\n",
              "        [1., 0.]],\n",
              "\n",
              "       [[1., 0.],\n",
              "        [1., 0.],\n",
              "        [1., 0.],\n",
              "        [1., 0.]]])"
            ]
          },
          "execution_count": 44,
          "metadata": {},
          "output_type": "execute_result"
        }
      ],
      "source": [
        "np.dstack([c1, c2])"
      ]
    },
    {
      "cell_type": "code",
      "execution_count": null,
      "metadata": {
        "school_cell_uuid": "f9238b1bdcb54f41b622a9a478f89fa0",
        "id": "0xxZH4t996Ce",
        "outputId": "81de8a3d-4907-4b2d-9505-4b2df0dced32"
      },
      "outputs": [
        {
          "data": {
            "text/plain": [
              "(3, 4, 2)"
            ]
          },
          "execution_count": 45,
          "metadata": {},
          "output_type": "execute_result"
        }
      ],
      "source": [
        "(np.dstack([c1, c2])).shape"
      ]
    },
    {
      "cell_type": "markdown",
      "metadata": {
        "id": "oC_f7dGp96Cf"
      },
      "source": [
        "```{margin}\n",
        "`stack`\n",
        "```"
      ]
    },
    {
      "cell_type": "markdown",
      "metadata": {
        "school_cell_uuid": "6e5f1e0e45f94e95ad2e05ff4f172c69",
        "id": "_DZyVoUn96Cg"
      },
      "source": [
        "`stack` 명령은 `dstack`의 기능을 확장한 것으로 `dstack`처럼 마지막 차원으로 연결하는 것이 아니라 사용자가 지정한 차원(축으로) 배열을 연결한다. `axis` 인수(디폴트 0)를 사용하여 연결후의 회전 방향을 정한다. 디폴트 인수값은 0이고 가장 앞쪽에 차원이 생성된다. 즉, 배열 두 개가 겹치게 되므로 연결하고자 하는 배열들의 크기가 모두 같아야 한다. \n",
        "\n",
        "다음 예에서는 `axis`=0 이므로 가장 바깥에 값이 2인 차원이 추가된다. 즉, shape 변화는 2개의 (3 x 4) -> 1개의 (**2** x 3 x 4) 이다.."
      ]
    },
    {
      "cell_type": "code",
      "execution_count": null,
      "metadata": {
        "school_cell_uuid": "564cc3e527fb4afeafe8b9d091e5fd22",
        "id": "eFuci0wF96Cg",
        "outputId": "8ce6b1e6-6b6c-48ca-d2ce-6ce2b40e8017"
      },
      "outputs": [
        {
          "data": {
            "text/plain": [
              "array([[[1., 1., 1., 1.],\n",
              "        [1., 1., 1., 1.],\n",
              "        [1., 1., 1., 1.]],\n",
              "\n",
              "       [[0., 0., 0., 0.],\n",
              "        [0., 0., 0., 0.],\n",
              "        [0., 0., 0., 0.]]])"
            ]
          },
          "execution_count": 46,
          "metadata": {},
          "output_type": "execute_result"
        }
      ],
      "source": [
        "c = np.stack([c1, c2])\n",
        "c"
      ]
    },
    {
      "cell_type": "code",
      "execution_count": null,
      "metadata": {
        "school_cell_uuid": "97b1f59e6c47453bbdfe416e01575868",
        "id": "RXeDkR0E96Cg",
        "outputId": "667f39d0-ed81-4fd2-8563-2b7e488ecc1c"
      },
      "outputs": [
        {
          "data": {
            "text/plain": [
              "(2, 3, 4)"
            ]
          },
          "execution_count": 47,
          "metadata": {},
          "output_type": "execute_result"
        }
      ],
      "source": [
        "c.shape"
      ]
    },
    {
      "cell_type": "markdown",
      "metadata": {
        "school_cell_uuid": "a0c4da583b854d0b8b8d99803ab2aba2",
        "id": "lirSbVY-96Cg"
      },
      "source": [
        "`axis` 인수가 1이면 두번째 차원으로 새로운 차원이 삽입된다. 다음 예에서 즉, shape 변화는 2개의 (3 x 4) -> 1개의 (3 x **2** x 4) 이다"
      ]
    },
    {
      "cell_type": "code",
      "execution_count": null,
      "metadata": {
        "school_cell_uuid": "bd36c52ba54e4effa63767b54b403c37",
        "scrolled": true,
        "id": "3x5wlzBK96Ch",
        "outputId": "9b0d0fa9-8bff-4f66-fab7-925629993881"
      },
      "outputs": [
        {
          "data": {
            "text/plain": [
              "array([[[1., 1., 1., 1.],\n",
              "        [0., 0., 0., 0.]],\n",
              "\n",
              "       [[1., 1., 1., 1.],\n",
              "        [0., 0., 0., 0.]],\n",
              "\n",
              "       [[1., 1., 1., 1.],\n",
              "        [0., 0., 0., 0.]]])"
            ]
          },
          "execution_count": 48,
          "metadata": {},
          "output_type": "execute_result"
        }
      ],
      "source": [
        "c = np.stack([c1, c2], axis=1)\n",
        "c"
      ]
    },
    {
      "cell_type": "code",
      "execution_count": null,
      "metadata": {
        "school_cell_uuid": "60dde750853a4cdd82f38b2bc4990215",
        "id": "Tsw_wxda96Ch",
        "outputId": "c95851b7-d1c3-4c28-e08f-019c4bddc396"
      },
      "outputs": [
        {
          "data": {
            "text/plain": [
              "(3, 2, 4)"
            ]
          },
          "execution_count": 49,
          "metadata": {},
          "output_type": "execute_result"
        }
      ],
      "source": [
        "c.shape"
      ]
    },
    {
      "cell_type": "markdown",
      "metadata": {
        "id": "mXVJz8jK96Ch"
      },
      "source": [
        "```{margin}\n",
        "`r_`\n",
        "```"
      ]
    },
    {
      "cell_type": "markdown",
      "metadata": {
        "school_cell_uuid": "1520a5eb265f496bbabdcce5011d18a2",
        "id": "yDDqRQ0u96Ch"
      },
      "source": [
        "`r_` 메서드는 `hstack` 명령과 비슷하게 배열을 좌우로 연결한다. 다만 메서드임에도 불구하고 소괄호(parenthesis, `()`)를 사용하지 않고 인덱싱과 같이 대괄호(bracket, `[]`)를 사용한다. 이런 특수 메서드를 인덱서(indexer)라고 한다."
      ]
    },
    {
      "cell_type": "code",
      "execution_count": null,
      "metadata": {
        "school_cell_uuid": "ab65c502a80f48b48c3274e552983943",
        "id": "msbrPCXQ96Ch",
        "outputId": "2e6618cb-7323-4967-d132-640ff0370c61"
      },
      "outputs": [
        {
          "data": {
            "text/plain": [
              "array([1, 2, 3, 4, 5, 6])"
            ]
          },
          "execution_count": 50,
          "metadata": {},
          "output_type": "execute_result"
        }
      ],
      "source": [
        "np.r_[np.array([1, 2, 3]), np.array([4, 5, 6])]"
      ]
    },
    {
      "cell_type": "markdown",
      "metadata": {
        "id": "9uTMfNE-96Ci"
      },
      "source": [
        "```{margin}\n",
        "`c_`\n",
        "```"
      ]
    },
    {
      "cell_type": "markdown",
      "metadata": {
        "school_cell_uuid": "1520a5eb265f496bbabdcce5011d18a2",
        "id": "vLCRCERF96Ci"
      },
      "source": [
        "`c_` 메서드는 배열의 차원을 증가시킨 후 좌우로 연결한다. 만약 1차원 배열을 연결하면 2차원 배열이 된다."
      ]
    },
    {
      "cell_type": "code",
      "execution_count": null,
      "metadata": {
        "school_cell_uuid": "ab65c502a80f48b48c3274e552983943",
        "id": "E1o_IV4p96Ci",
        "outputId": "1b7ef95c-9d00-4b75-dc7c-653b815667fb"
      },
      "outputs": [
        {
          "data": {
            "text/plain": [
              "array([[1, 4],\n",
              "       [2, 5],\n",
              "       [3, 6]])"
            ]
          },
          "execution_count": 51,
          "metadata": {},
          "output_type": "execute_result"
        }
      ],
      "source": [
        "np.c_[np.array([1, 2, 3]), np.array([4, 5, 6])]"
      ]
    },
    {
      "cell_type": "markdown",
      "metadata": {
        "id": "LtYGQHp996Ci"
      },
      "source": [
        "```{margin}\n",
        "`tile`\n",
        "```"
      ]
    },
    {
      "cell_type": "markdown",
      "metadata": {
        "school_cell_uuid": "5e4bded6885249ba9c2aa05e7e6fa4df",
        "id": "ae1EQf9B96Ci"
      },
      "source": [
        "`tile` 명령은 동일한 배열을 반복하여 연결한다."
      ]
    },
    {
      "cell_type": "code",
      "execution_count": null,
      "metadata": {
        "school_cell_uuid": "1d16457e5bee4d788fc845103e0aa963",
        "id": "NybMNIuG96Cj",
        "outputId": "4e52c368-7c88-4db6-b570-e54921dcde6d"
      },
      "outputs": [
        {
          "data": {
            "text/plain": [
              "array([[0, 1, 2, 0, 1, 2],\n",
              "       [3, 4, 5, 3, 4, 5]])"
            ]
          },
          "execution_count": 52,
          "metadata": {},
          "output_type": "execute_result"
        }
      ],
      "source": [
        "a = np.array([[0, 1, 2], [3, 4, 5]])\n",
        "np.tile(a, 2)"
      ]
    },
    {
      "cell_type": "code",
      "execution_count": null,
      "metadata": {
        "school_cell_uuid": "83f17209217c46fbb3973f6c0f910c74",
        "id": "W-EkLkps96Cj",
        "outputId": "1055ce2f-b239-4c02-8d79-f28561c1f5fb"
      },
      "outputs": [
        {
          "data": {
            "text/plain": [
              "array([[0, 1, 2, 0, 1, 2],\n",
              "       [3, 4, 5, 3, 4, 5],\n",
              "       [0, 1, 2, 0, 1, 2],\n",
              "       [3, 4, 5, 3, 4, 5],\n",
              "       [0, 1, 2, 0, 1, 2],\n",
              "       [3, 4, 5, 3, 4, 5]])"
            ]
          },
          "execution_count": 53,
          "metadata": {},
          "output_type": "execute_result"
        }
      ],
      "source": [
        "np.tile(a, (3, 2))"
      ]
    },
    {
      "cell_type": "markdown",
      "metadata": {
        "bootstrap": {
          "panel": {
            "class": "panel-default"
          }
        },
        "school_cell_uuid": "13b232d1b9fc4a818706fce49816d44c",
        "id": "WLBqwlvC96Cj"
      },
      "source": [
        "````{admonition} 연습 문제 3.2.1\n",
        "\n",
        "지금까지 공부한 명령어를 사용하여 다음과 같은 배열을 만들어라.\n",
        "\n",
        "```\n",
        "array([[   0.,    0.,    0.,    1.,    1.],\n",
        "       [   0.,    0.,    0.,    1.,    1.],\n",
        "       [   0.,    0.,    0.,    1.,    1.],\n",
        "       [  10.,   20.,   30.,   40.,   50.],\n",
        "       [  60.,   70.,   80.,   90.,  100.],\n",
        "       [ 110.,  120.,  130.,  140.,  150.],\n",
        "       [   0.,    0.,    0.,    1.,    1.],\n",
        "       [   0.,    0.,    0.,    1.,    1.],\n",
        "       [   0.,    0.,    0.,    1.,    1.],\n",
        "       [  10.,   20.,   30.,   40.,   50.],\n",
        "       [  60.,   70.,   80.,   90.,  100.],\n",
        "       [ 110.,  120.,  130.,  140.,  150.]])\n",
        "```\n",
        "````"
      ]
    },
    {
      "cell_type": "markdown",
      "metadata": {
        "school_cell_uuid": "5465714ae41645b6a226efc93dd02611",
        "id": "fXzN3l5Z96Cj"
      },
      "source": [
        "## 2차원 그리드 포인트 생성"
      ]
    },
    {
      "cell_type": "markdown",
      "metadata": {
        "school_cell_uuid": "75adf0b409f642cda6d64fdbf9e49ce1",
        "id": "fxDqX6P696Ck"
      },
      "source": [
        "변수가 2개인 2차원 함수의 그래프를 그리거나 표를 작성하려면 2차원 영역에 대한 (x,y) 좌표값 쌍 즉, 그리드 포인트(grid point)를 생성하여 각 좌표에 대한 함수 값을 계산해야 한다. 예를 들어 x, y 라는 두 변수를 가진 함수에서 x가 0부터 2까지, y가 0부터 4까지의 사각형 영역에서 변화하는 과정을 보고 싶다면 이 사각형 영역 안의 다음과 같은 그리드 포인트들에 대해 함수를 계산해야 한다. \n",
        "\n",
        "$$ (x,y) = (0,0), (0,1), (0,2), (0,3), (0,4), (1,0), \\cdots (2,4) $$"
      ]
    },
    {
      "cell_type": "markdown",
      "metadata": {
        "id": "0_02pQIa96Ck"
      },
      "source": [
        "```{margin}\n",
        "`meshgrid`\n",
        "```"
      ]
    },
    {
      "cell_type": "markdown",
      "metadata": {
        "id": "w4Ungi3r96Ck"
      },
      "source": [
        "이러한 그리드 포인트를 만드는 과정을 도와주는 것이 `meshgrid` 명령이다. `meshgrid` 명령은 사각형 영역을 구성하는 가로축의 점들과 세로축의 점을 나타내는 두 벡터를 인수로 받아서 이 사각형 영역을 이루는 조합을 출력한다. 결과는 그리드 포인트의 x 값만을 표시하는 행렬과 y 값만을 표시하는 행렬 두 개로 분리하여 출력한다."
      ]
    },
    {
      "cell_type": "code",
      "execution_count": null,
      "metadata": {
        "school_cell_uuid": "8d387a1bc14e41c5b9adf44f74afaba6",
        "id": "RCduVM_N96Ck",
        "outputId": "d230f44a-df3c-4a26-cb4a-4a74b10d4f0d"
      },
      "outputs": [
        {
          "data": {
            "text/plain": [
              "array([0, 1, 2])"
            ]
          },
          "execution_count": 54,
          "metadata": {},
          "output_type": "execute_result"
        }
      ],
      "source": [
        "x = np.arange(3)\n",
        "x"
      ]
    },
    {
      "cell_type": "code",
      "execution_count": null,
      "metadata": {
        "school_cell_uuid": "9d7b6a3b179e43d582c3702152493a93",
        "id": "z8FICJGa96Ck",
        "outputId": "d1a753be-be89-44eb-8f62-aad8d7014ba5"
      },
      "outputs": [
        {
          "data": {
            "text/plain": [
              "array([0, 1, 2, 3, 4])"
            ]
          },
          "execution_count": 55,
          "metadata": {},
          "output_type": "execute_result"
        }
      ],
      "source": [
        "y = np.arange(5)\n",
        "y"
      ]
    },
    {
      "cell_type": "code",
      "execution_count": null,
      "metadata": {
        "school_cell_uuid": "ca8b7103ddfa4f45bfbb401dcf9ccfe3",
        "id": "4NH7qU4_96Cl"
      },
      "outputs": [],
      "source": [
        "X, Y = np.meshgrid(x, y)"
      ]
    },
    {
      "cell_type": "code",
      "execution_count": null,
      "metadata": {
        "school_cell_uuid": "55aea931e469439ba1cfb19bc0112883",
        "id": "ATHHl8xw96Cl",
        "outputId": "0c52aaac-f787-4677-891e-ff29ad6d86f1"
      },
      "outputs": [
        {
          "data": {
            "text/plain": [
              "array([[0, 1, 2],\n",
              "       [0, 1, 2],\n",
              "       [0, 1, 2],\n",
              "       [0, 1, 2],\n",
              "       [0, 1, 2]])"
            ]
          },
          "execution_count": 57,
          "metadata": {},
          "output_type": "execute_result"
        }
      ],
      "source": [
        "X"
      ]
    },
    {
      "cell_type": "code",
      "execution_count": null,
      "metadata": {
        "school_cell_uuid": "8e47bd26749d472386486f92dcb16b3e",
        "id": "jZg7cQo_96Cl",
        "outputId": "4e058ca4-7d60-4400-94da-67eeea2d9f0a"
      },
      "outputs": [
        {
          "data": {
            "text/plain": [
              "array([[0, 0, 0],\n",
              "       [1, 1, 1],\n",
              "       [2, 2, 2],\n",
              "       [3, 3, 3],\n",
              "       [4, 4, 4]])"
            ]
          },
          "execution_count": 58,
          "metadata": {},
          "output_type": "execute_result"
        }
      ],
      "source": [
        "Y"
      ]
    },
    {
      "cell_type": "code",
      "execution_count": null,
      "metadata": {
        "school_cell_uuid": "f0ff0762ce1345569d860643683e14e4",
        "id": "ItBTldHA96Cm",
        "outputId": "b2a67419-e261-435d-bf9a-b26b4d4a86b7"
      },
      "outputs": [
        {
          "data": {
            "text/plain": [
              "[[(0, 0), (1, 0), (2, 0)],\n",
              " [(0, 1), (1, 1), (2, 1)],\n",
              " [(0, 2), (1, 2), (2, 2)],\n",
              " [(0, 3), (1, 3), (2, 3)],\n",
              " [(0, 4), (1, 4), (2, 4)]]"
            ]
          },
          "execution_count": 59,
          "metadata": {},
          "output_type": "execute_result"
        }
      ],
      "source": [
        "[list(zip(x, y)) for x, y in zip(X, Y)]"
      ]
    }
  ],
  "metadata": {
    "celltoolbar": "Edit Metadata",
    "kernelspec": {
      "display_name": "Python 3",
      "language": "python",
      "name": "python3"
    },
    "language_info": {
      "codemirror_mode": {
        "name": "ipython",
        "version": 3
      },
      "file_extension": ".py",
      "mimetype": "text/x-python",
      "name": "python",
      "nbconvert_exporter": "python",
      "pygments_lexer": "ipython3",
      "version": "3.8.3"
    },
    "colab": {
      "provenance": [],
      "include_colab_link": true
    }
  },
  "nbformat": 4,
  "nbformat_minor": 0
}