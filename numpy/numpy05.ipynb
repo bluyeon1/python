{
  "cells": [
    {
      "cell_type": "markdown",
      "metadata": {
        "id": "view-in-github",
        "colab_type": "text"
      },
      "source": [
        "<a href=\"https://colab.research.google.com/github/k2moon/python/blob/main/numpy/numpy05.ipynb\" target=\"_parent\"><img src=\"https://colab.research.google.com/assets/colab-badge.svg\" alt=\"Open In Colab\"/></a>"
      ]
    },
    {
      "cell_type": "markdown",
      "metadata": {
        "school_cell_uuid": "3f982c42a05543b1be7df7e511be3246",
        "id": "PAo4qq3o-9V1"
      },
      "source": [
        "# 3.5 난수 발생과 카운팅"
      ]
    },
    {
      "cell_type": "markdown",
      "metadata": {
        "school_cell_uuid": "daedb1a1432d41039d738327d92dc9f6",
        "id": "VLQq7EeH-9V6"
      },
      "source": [
        "파이썬을 이용하여 데이터를 무작위로 섞거나 임의의 수 즉, 난수(random number)를 발생시키는 방법에 대해 알아본다. 이 기능은 주로 NumPy의 random 서브패키지에서 제공한다."
      ]
    },
    {
      "cell_type": "markdown",
      "metadata": {
        "school_cell_uuid": "4388755335d6472f94fbf2e56cb892e4",
        "id": "rd0ZFfZX-9V6"
      },
      "source": [
        "## 시드 설정하기"
      ]
    },
    {
      "cell_type": "markdown",
      "metadata": {
        "id": "O2rmwxFg-9V7"
      },
      "source": [
        "```{margin}\n",
        "시드\n",
        "```"
      ]
    },
    {
      "cell_type": "markdown",
      "metadata": {
        "school_cell_uuid": "155352cb8ec04206a8889926b61ba967",
        "id": "V3h4OBra-9V7"
      },
      "source": [
        "컴퓨터 프로그램에서 발생하는 무작위 수는 사실 엄격한 의미의 무작위 수가 아니다. 어떤 특정한 시작 숫자를 정해 주면 컴퓨터가 정해진 알고리즘에 의해 마치 난수처럼 보이는 수열을 생성한다. 이런 시작 숫자를 시드(seed)라고 한다. 일단 생성된 난수는 다음번 난수 생성을 위한 시드값이 된다. 따라서 시드값은 한 번만 정해주면 된다. 시드는 보통 현재 시각등을 이용하여 자동으로 정해지지만 사람이 수동으로 설정할 수도 있다. 특정한 시드값이 사용되면 그 다음에 만들어지는 난수들은 모두 예측할 수 있다. 이 책에서는 코드의 결과를 재현하기 위해 항상 시드를 설정한다."
      ]
    },
    {
      "cell_type": "markdown",
      "metadata": {
        "id": "0WiH1G5S-9V8"
      },
      "source": [
        "```{margin}\n",
        "`seed`\n",
        "```"
      ]
    },
    {
      "cell_type": "markdown",
      "metadata": {
        "school_cell_uuid": "bb61a3f27f534e80b893e93e2b9af486",
        "id": "xDfnCy5g-9V8"
      },
      "source": [
        "파이썬에서 시드를 설정하는 함수는 `seed`이다. 인수로는 0과 같거나 큰 정수를 넣어준다."
      ]
    },
    {
      "cell_type": "code",
      "execution_count": null,
      "metadata": {
        "school_cell_uuid": "4f8d6524f35f424286b4a4d611142313",
        "id": "MIf3eKdR-9V8"
      },
      "outputs": [],
      "source": [
        "np.random.seed(0)"
      ]
    },
    {
      "cell_type": "markdown",
      "metadata": {
        "id": "O65F30bG-9V9"
      },
      "source": [
        "```{margin}\n",
        "`rand`\n",
        "```"
      ]
    },
    {
      "cell_type": "markdown",
      "metadata": {
        "school_cell_uuid": "290b77b6d1ad42b4932e4095c2430ac2",
        "id": "pLA_zhUN-9V-"
      },
      "source": [
        "이렇게 시드를 설정한 후 넘파이 random 서브패키지에 있는 `rand` 함수로 5개의 난수를 생성해 보자. `rand` 함수는 0과 1사이의 난수를 발생시키는 함수로 인수로 받은 숫자 횟수만큼 난수를 발생시킨다."
      ]
    },
    {
      "cell_type": "code",
      "execution_count": null,
      "metadata": {
        "school_cell_uuid": "7574e2342e8c4714bae82668a692ca2a",
        "scrolled": true,
        "id": "UZIw29Ez-9V-",
        "outputId": "22d17964-b06e-4f27-8862-ce11f24d6393"
      },
      "outputs": [
        {
          "data": {
            "text/plain": [
              "array([0.5488135 , 0.71518937, 0.60276338, 0.54488318, 0.4236548 ])"
            ]
          },
          "execution_count": 2,
          "metadata": {},
          "output_type": "execute_result"
        }
      ],
      "source": [
        "np.random.rand(5)"
      ]
    },
    {
      "cell_type": "markdown",
      "metadata": {
        "school_cell_uuid": "caa5d231bd9d4368ace5b70129add1bc",
        "id": "0QNTL_-j-9V_"
      },
      "source": [
        "몇번 더 난수를 생성해보자. 사람이 예측할 수 없는 무작위 숫자가 나오는 것을 볼 수 있다."
      ]
    },
    {
      "cell_type": "code",
      "execution_count": null,
      "metadata": {
        "school_cell_uuid": "de1a522ed5324507bfd2b75d3fa5d452",
        "id": "sRWMlve9-9V_",
        "outputId": "2837f6c9-5c0c-4932-da23-cd6e9952f664"
      },
      "outputs": [
        {
          "data": {
            "text/plain": [
              "array([0.64589411, 0.43758721, 0.891773  , 0.96366276, 0.38344152,\n",
              "       0.79172504, 0.52889492, 0.56804456, 0.92559664, 0.07103606])"
            ]
          },
          "execution_count": 3,
          "metadata": {},
          "output_type": "execute_result"
        }
      ],
      "source": [
        "np.random.rand(10)"
      ]
    },
    {
      "cell_type": "code",
      "execution_count": null,
      "metadata": {
        "school_cell_uuid": "90f02a6ba6f4486b8330bd77b5974144",
        "id": "bN-IjIy4-9V_",
        "outputId": "664f1ee4-be3f-4ecc-8fae-4f52079cf305"
      },
      "outputs": [
        {
          "data": {
            "text/plain": [
              "array([0.0871293 , 0.0202184 , 0.83261985, 0.77815675, 0.87001215,\n",
              "       0.97861834, 0.79915856, 0.46147936, 0.78052918, 0.11827443])"
            ]
          },
          "execution_count": 4,
          "metadata": {},
          "output_type": "execute_result"
        }
      ],
      "source": [
        "np.random.rand(10)"
      ]
    },
    {
      "cell_type": "markdown",
      "metadata": {
        "school_cell_uuid": "dec6532c35064e7bbd7f02375ef8d824",
        "id": "O3cF08Mz-9WA"
      },
      "source": [
        "이제 시드를 0으로 재설정하고 다시 난수를 발생시켜 본다."
      ]
    },
    {
      "cell_type": "code",
      "execution_count": null,
      "metadata": {
        "school_cell_uuid": "b8faa78bf7054d7784192bd816e093d2",
        "id": "yMM_t-7C-9WA"
      },
      "outputs": [],
      "source": [
        "np.random.seed(0)"
      ]
    },
    {
      "cell_type": "code",
      "execution_count": null,
      "metadata": {
        "school_cell_uuid": "bf4ee192cd644ddfab2ac2d8ca287d70",
        "scrolled": true,
        "id": "yfMxTCT3-9WA",
        "outputId": "3708de81-8931-49f3-8d5f-806a700924d9"
      },
      "outputs": [
        {
          "data": {
            "text/plain": [
              "array([0.5488135 , 0.71518937, 0.60276338, 0.54488318, 0.4236548 ])"
            ]
          },
          "execution_count": 6,
          "metadata": {},
          "output_type": "execute_result"
        }
      ],
      "source": [
        "np.random.rand(5)"
      ]
    },
    {
      "cell_type": "code",
      "execution_count": null,
      "metadata": {
        "school_cell_uuid": "8c518b19a3fa4346b941418270153beb",
        "scrolled": true,
        "id": "cTmHQA_u-9WA",
        "outputId": "19f2d3b2-ff1d-4ef2-ed5e-c288bfa60c42"
      },
      "outputs": [
        {
          "data": {
            "text/plain": [
              "array([0.64589411, 0.43758721, 0.891773  , 0.96366276, 0.38344152,\n",
              "       0.79172504, 0.52889492, 0.56804456, 0.92559664, 0.07103606])"
            ]
          },
          "execution_count": 7,
          "metadata": {},
          "output_type": "execute_result"
        }
      ],
      "source": [
        "np.random.rand(10)"
      ]
    },
    {
      "cell_type": "code",
      "execution_count": null,
      "metadata": {
        "school_cell_uuid": "f0fe2a52f387440dbe13818a057041b3",
        "scrolled": true,
        "id": "9vYtwhxs-9WA",
        "outputId": "4d38c051-03a4-4c38-dac5-8803b07f4093"
      },
      "outputs": [
        {
          "data": {
            "text/plain": [
              "array([0.0871293 , 0.0202184 , 0.83261985, 0.77815675, 0.87001215,\n",
              "       0.97861834, 0.79915856, 0.46147936, 0.78052918, 0.11827443])"
            ]
          },
          "execution_count": 8,
          "metadata": {},
          "output_type": "execute_result"
        }
      ],
      "source": [
        "np.random.rand(10)"
      ]
    },
    {
      "cell_type": "markdown",
      "metadata": {
        "school_cell_uuid": "f19108f4f2be4fb5a1d06ffae539452c",
        "id": "efuz8jSZ-9WB"
      },
      "source": [
        "아까와 같은 숫자가 나오는 것을 확인할 수 있다."
      ]
    },
    {
      "cell_type": "markdown",
      "metadata": {
        "school_cell_uuid": "5636e99b86c740bf9735ac9f4638b43a",
        "id": "2HLzagCd-9WB"
      },
      "source": [
        "## 데이터의 순서 바꾸기"
      ]
    },
    {
      "cell_type": "markdown",
      "metadata": {
        "id": "qOvnzFB3-9WB"
      },
      "source": [
        "```{margin}\n",
        "`shuffle`\n",
        "```"
      ]
    },
    {
      "cell_type": "markdown",
      "metadata": {
        "school_cell_uuid": "1174c7b0b0fb4bfaa6354cc729b63825",
        "id": "pOqbvrnI-9WB"
      },
      "source": [
        "데이터의 순서를 바꾸려면 `shuffle` 함수를 사용한다. `shuffle` 함수도 자체 변환(in-place) 함수로 한 번 사용하면 변수의 값이 바뀌므로 사용에 주의해야 한다. "
      ]
    },
    {
      "cell_type": "code",
      "execution_count": null,
      "metadata": {
        "school_cell_uuid": "54337809fac54417b262a402cc043c83",
        "id": "zOy_AOJV-9WB",
        "outputId": "a1c5fe5d-105d-45e8-a96d-9c41e543cad4"
      },
      "outputs": [
        {
          "data": {
            "text/plain": [
              "array([0, 1, 2, 3, 4, 5, 6, 7, 8, 9])"
            ]
          },
          "execution_count": 9,
          "metadata": {},
          "output_type": "execute_result"
        }
      ],
      "source": [
        "x = np.arange(10)\n",
        "x"
      ]
    },
    {
      "cell_type": "code",
      "execution_count": null,
      "metadata": {
        "school_cell_uuid": "e43809a5526b45ba866738aeec1a3181",
        "id": "hxZB1fKB-9WB",
        "outputId": "5222f32b-9092-46a2-87a8-ca9b0f9b8910"
      },
      "outputs": [
        {
          "data": {
            "text/plain": [
              "array([3, 6, 4, 5, 2, 9, 7, 8, 1, 0])"
            ]
          },
          "execution_count": 10,
          "metadata": {},
          "output_type": "execute_result"
        }
      ],
      "source": [
        "np.random.shuffle(x)\n",
        "x"
      ]
    },
    {
      "cell_type": "markdown",
      "metadata": {
        "school_cell_uuid": "e33873a7680b4db3a82adcf7ff230521",
        "id": "egHrgXhH-9WC"
      },
      "source": [
        "## 데이터 샘플링"
      ]
    },
    {
      "cell_type": "markdown",
      "metadata": {
        "id": "waObie84-9WC"
      },
      "source": [
        "```{margin}\n",
        "`choice`\n",
        "```"
      ]
    },
    {
      "cell_type": "markdown",
      "metadata": {
        "school_cell_uuid": "598c5aefaa0b45518c95e9c86b238d7d",
        "id": "jyjIPvOv-9WC"
      },
      "source": [
        "이미 있는 데이터 집합에서 일부를 무작위로 선택하는 것을 표본선택 혹은 샘플링(sampling)이라고 한다. 샘플링에는 `choice` 함수를 사용한다. `choice` 함수는 다음과 같은 인수를 가질 수 있다.\n",
        "\n",
        "\n",
        "`numpy.random.choice(a, size=None, replace=True, p=None)`\n",
        "\n",
        "* a : 배열이면 원래의 데이터, 정수이면 arange(a) 명령으로 데이터 생성\n",
        "* size : 정수. 샘플 숫자\n",
        "* replace : 불리언. True이면 한번 선택한 데이터를 다시 선택 가능\n",
        "* p : 배열. 각 데이터가 선택될 수 있는 확률\n"
      ]
    },
    {
      "cell_type": "code",
      "execution_count": null,
      "metadata": {
        "school_cell_uuid": "195092f9d0c64f86a52e249c7128f660",
        "id": "USGxpe6R-9WC",
        "outputId": "b769f4ac-492f-43b0-ad25-042e50e96ec1"
      },
      "outputs": [
        {
          "data": {
            "text/plain": [
              "array([1, 4, 0, 3, 2])"
            ]
          },
          "execution_count": 11,
          "metadata": {},
          "output_type": "execute_result"
        }
      ],
      "source": [
        "np.random.choice(5, 5, replace=False)  # shuffle 명령과 같다."
      ]
    },
    {
      "cell_type": "code",
      "execution_count": null,
      "metadata": {
        "school_cell_uuid": "3c8979fa989540edb94ffab310dab17f",
        "id": "ga3uv3fV-9WD",
        "outputId": "8ed44322-59ea-4487-a2c8-9969e4e45871"
      },
      "outputs": [
        {
          "data": {
            "text/plain": [
              "array([2, 1, 3])"
            ]
          },
          "execution_count": 12,
          "metadata": {},
          "output_type": "execute_result"
        }
      ],
      "source": [
        "np.random.choice(5, 3, replace=False)  # 3개만 선택"
      ]
    },
    {
      "cell_type": "code",
      "execution_count": null,
      "metadata": {
        "school_cell_uuid": "f5c65dcb449942d8be803c160d0844fd",
        "id": "-qGALij6-9WD",
        "outputId": "2ac26a1c-9873-49e3-8d2b-681f51e5a738"
      },
      "outputs": [
        {
          "data": {
            "text/plain": [
              "array([0, 4, 1, 4, 1, 2, 2, 0, 1, 1])"
            ]
          },
          "execution_count": 13,
          "metadata": {},
          "output_type": "execute_result"
        }
      ],
      "source": [
        "np.random.choice(5, 10)  # 반복해서 10개 선택"
      ]
    },
    {
      "cell_type": "code",
      "execution_count": null,
      "metadata": {
        "school_cell_uuid": "589fc9ada99f408eaf3d98e6ba35bd50",
        "id": "-l1IhDXz-9WD",
        "outputId": "a69d60af-ca47-4e77-8805-8504f8643808"
      },
      "outputs": [
        {
          "data": {
            "text/plain": [
              "array([0, 3, 3, 2, 2, 3, 3, 2, 0, 3])"
            ]
          },
          "execution_count": 14,
          "metadata": {},
          "output_type": "execute_result"
        }
      ],
      "source": [
        "np.random.choice(5, 10, p=[0.1, 0, 0.3, 0.6, 0])  # 선택 확률을 다르게 해서 10개 선택"
      ]
    },
    {
      "cell_type": "markdown",
      "metadata": {
        "school_cell_uuid": "44ca88ce88f247eea71d8170c98ab17f",
        "id": "O6wOfEo6-9WD"
      },
      "source": [
        "## 난수 생성"
      ]
    },
    {
      "cell_type": "markdown",
      "metadata": {
        "school_cell_uuid": "0fbfd061953b4601ba42d4140e92bdba",
        "id": "MNuC86Zd-9WE"
      },
      "source": [
        "넘파이의 random 서브패키지는 이외에도 난수를 생성하는 다양한 함수를 제공한다. 그 중 가장 간단하고 많이 사용되는 것은 다음 3가지 함수다.\n",
        "\n",
        "* `rand`: 0부터 1사이의 균일 분포 \n",
        "* `randn`: 표준 정규 분포\n",
        "* `randint`: 균일 분포의 정수 난수"
      ]
    },
    {
      "cell_type": "markdown",
      "metadata": {
        "id": "pylDt9ap-9WE"
      },
      "source": [
        "```{margin}\n",
        "`rand`\n",
        "```"
      ]
    },
    {
      "cell_type": "markdown",
      "metadata": {
        "school_cell_uuid": "e96902fa552f4ec1819075e81184b812",
        "id": "bzHJxSsO-9WE"
      },
      "source": [
        "`rand` 함수는 0부터 1사이에서 균일한 확률 분포로 실수 난수를 생성한다. 숫자 인수는 생성할 난수의 크기이다. 여러개의 인수를 넣으면 해당 크기를 가진 행렬을 생성한다."
      ]
    },
    {
      "cell_type": "code",
      "execution_count": null,
      "metadata": {
        "school_cell_uuid": "edaa191590d4424c991a4cd50ed92578",
        "id": "TsB2WR8k-9WE",
        "outputId": "8ae1961e-b114-4e36-e760-f462f05f98aa"
      },
      "outputs": [
        {
          "data": {
            "text/plain": [
              "array([0.95894927, 0.65279032, 0.63505887, 0.99529957, 0.58185033,\n",
              "       0.41436859, 0.4746975 , 0.6235101 , 0.33800761, 0.67475232])"
            ]
          },
          "execution_count": 15,
          "metadata": {},
          "output_type": "execute_result"
        }
      ],
      "source": [
        "np.random.rand(10)"
      ]
    },
    {
      "cell_type": "code",
      "execution_count": null,
      "metadata": {
        "school_cell_uuid": "257e6d1f19b44fdab7e7f786f2bf2d1f",
        "id": "T0xow1g5-9WE",
        "outputId": "14dea199-422c-498d-a3e3-f3ffbac5e165"
      },
      "outputs": [
        {
          "data": {
            "text/plain": [
              "array([[0.31720174, 0.77834548, 0.94957105, 0.66252687, 0.01357164],\n",
              "       [0.6228461 , 0.67365963, 0.971945  , 0.87819347, 0.50962438],\n",
              "       [0.05571469, 0.45115921, 0.01998767, 0.44171092, 0.97958673]])"
            ]
          },
          "execution_count": 16,
          "metadata": {},
          "output_type": "execute_result"
        }
      ],
      "source": [
        "np.random.rand(3, 5)"
      ]
    },
    {
      "cell_type": "markdown",
      "metadata": {
        "id": "uij2fGX--9WE"
      },
      "source": [
        "```{margin}\n",
        "`randn`\n",
        "```"
      ]
    },
    {
      "cell_type": "markdown",
      "metadata": {
        "school_cell_uuid": "f02d488571cb453c8970b5b53ff29cb2",
        "id": "bNQkReF2-9WP"
      },
      "source": [
        "`randn` 함수는 기댓값이 0이고 표준편차가 1인 표준 정규 분포(standard normal distribution)를 따르는 난수를 생성한다. 인수 사용법은 `rand` 명령과 같다."
      ]
    },
    {
      "cell_type": "code",
      "execution_count": null,
      "metadata": {
        "school_cell_uuid": "b393b3254efe47d59c0fa9f2b59b9904",
        "id": "52Cfn5Oe-9WP",
        "outputId": "1c0a54fa-b83f-4f85-892f-ceb679976f46"
      },
      "outputs": [
        {
          "data": {
            "text/plain": [
              "array([-0.30237513, -2.2244036 ,  0.72400636,  0.35900276,  1.07612104,\n",
              "        0.19214083,  0.85292596,  0.01835718,  0.42830357,  0.99627783])"
            ]
          },
          "execution_count": 17,
          "metadata": {},
          "output_type": "execute_result"
        }
      ],
      "source": [
        "np.random.randn(10)"
      ]
    },
    {
      "cell_type": "code",
      "execution_count": null,
      "metadata": {
        "school_cell_uuid": "adee3d18094e4f33b0d7a8f32a030154",
        "id": "fjccUFB--9WQ",
        "outputId": "58ea21ab-dae2-4939-e37c-6a0fd9883baa"
      },
      "outputs": [
        {
          "data": {
            "text/plain": [
              "array([[-0.49114966,  0.71267817,  1.11334035, -2.15367459, -0.41611148],\n",
              "       [-1.07089699,  0.22113881, -1.12305712, -1.05075796,  1.01207905],\n",
              "       [ 1.54371643, -0.40211489,  0.8647491 , -0.22686923,  0.81116027]])"
            ]
          },
          "execution_count": 18,
          "metadata": {},
          "output_type": "execute_result"
        }
      ],
      "source": [
        "np.random.randn(3, 5)"
      ]
    },
    {
      "cell_type": "markdown",
      "metadata": {
        "id": "rfhYhFPE-9WQ"
      },
      "source": [
        "```{margin}\n",
        "`randint`\n",
        "```"
      ]
    },
    {
      "cell_type": "markdown",
      "metadata": {
        "school_cell_uuid": "3ed798c061fc49588e1a07699c648c81",
        "id": "BQDvxE6f-9WQ"
      },
      "source": [
        "`randint` 함수는 다음과 같은 인수를 가진다.\n",
        "\n",
        "`numpy.random.randint(low, high=None, size=None)`\n",
        "\n",
        "만약 `high`를 입력하지 않으면 0과 `low`사이의 숫자를, `high`를 입력하면 `low`와 `high`는 사이의 숫자를 출력한다. `size`는 난수의 숫자이다."
      ]
    },
    {
      "cell_type": "code",
      "execution_count": null,
      "metadata": {
        "school_cell_uuid": "89d766b0dad34a1e9efd1f632ae501b9",
        "id": "W5JQKU0t-9WQ",
        "outputId": "962c8555-ff37-44ea-e68a-4dce17335b63"
      },
      "outputs": [
        {
          "data": {
            "text/plain": [
              "array([0, 4, 3, 6, 9, 8, 0, 8, 5, 9])"
            ]
          },
          "execution_count": 19,
          "metadata": {},
          "output_type": "execute_result"
        }
      ],
      "source": [
        "np.random.randint(10, size=10)"
      ]
    },
    {
      "cell_type": "code",
      "execution_count": null,
      "metadata": {
        "school_cell_uuid": "8300e6038dca4666a922d0b9ef18c5b2",
        "id": "HUjgW_j5-9WR",
        "outputId": "e7365f6b-43a3-4fd9-e652-a7bbbf4c04b9"
      },
      "outputs": [
        {
          "data": {
            "text/plain": [
              "array([10, 19, 16, 15, 13, 11, 18, 10, 14, 19])"
            ]
          },
          "execution_count": 20,
          "metadata": {},
          "output_type": "execute_result"
        }
      ],
      "source": [
        "np.random.randint(10, 20, size=10)"
      ]
    },
    {
      "cell_type": "code",
      "execution_count": null,
      "metadata": {
        "school_cell_uuid": "683d2572fa3d4dd6959e25dbd40cec1c",
        "id": "tVgKRFhR-9WR",
        "outputId": "3ce56d64-1801-493e-a97b-a8ff9159175f"
      },
      "outputs": [
        {
          "data": {
            "text/plain": [
              "array([[16, 15, 17, 18, 18],\n",
              "       [19, 12, 18, 16, 16],\n",
              "       [19, 11, 16, 18, 18]])"
            ]
          },
          "execution_count": 21,
          "metadata": {},
          "output_type": "execute_result"
        }
      ],
      "source": [
        "np.random.randint(10, 20, size=(3, 5))"
      ]
    },
    {
      "cell_type": "markdown",
      "metadata": {
        "id": "_RUh_RDJ-9WR"
      },
      "source": [
        "```{admonition} 연습 문제 3.5.1\n",
        "\n",
        "1. 동전을 10번 던져 앞면(숫자 1)과 뒷면(숫자 0)이 나오는 가상 실험을 파이썬으로 작성한다.\n",
        "2. 주사위를 100번 던져서 나오는 숫자의 평균을 구하라.\n",
        "```"
      ]
    },
    {
      "cell_type": "markdown",
      "metadata": {
        "id": "EpFg5No7-9WR"
      },
      "source": [
        "```{admonition} 연습 문제 3.5.2\n",
        "\n",
        "가격이 10,000원인 주식이 있다. 이 주식의 일간 수익률(%)은 기댓값이 0%이고 표준편차가 1%인 표준 정규 분포를 따른다고 하자.\n",
        "250일 동안의 주가를 무작위로 생성하라\n",
        "```"
      ]
    },
    {
      "cell_type": "markdown",
      "metadata": {
        "school_cell_uuid": "6d80567ed2a9472a867cf1d2bbccfb6f",
        "id": "nv8V2yZL-9WR"
      },
      "source": [
        "## 정수 데이터 카운팅"
      ]
    },
    {
      "cell_type": "markdown",
      "metadata": {
        "school_cell_uuid": "05b6fc5e9d514f3fa4f1927eea6dc44e",
        "id": "7Wo1kOK4-9WS"
      },
      "source": [
        "이렇게 발생시킨 난수가 실수값이면 히스토그램 등을 사용하여 분석하면 된다. 히스토그램을 시각화 부분에서 나중에 자세히 설명한다.\n",
        "\n",
        "만약 난수가 정수값이면 `unique` 명령이나 `bincount` 명령으로 데이터 값을 분석할 수 있다. "
      ]
    },
    {
      "cell_type": "markdown",
      "metadata": {
        "id": "UC3hW19j-9WS"
      },
      "source": [
        "```{margin}\n",
        "`unique`\n",
        "```"
      ]
    },
    {
      "cell_type": "markdown",
      "metadata": {
        "school_cell_uuid": "207d493df5064b45af5eac70e2332e40",
        "id": "n6vfz9TC-9WS"
      },
      "source": [
        "`unique` 함수는 데이터에서 중복된 값을 제거하고 중복되지 않는 값의 리스트를 출력한다. `return_counts` 인수를 `True` 로 설정하면 각 값을 가진 데이터 갯수도 출력한다."
      ]
    },
    {
      "cell_type": "code",
      "execution_count": null,
      "metadata": {
        "school_cell_uuid": "e7448ae7264c49e8ac97ad96e40f3cab",
        "id": "LXvTainf-9WT",
        "outputId": "6b6e00f2-2cd8-4bfa-8ca0-3b77dfcfe472"
      },
      "outputs": [
        {
          "data": {
            "text/plain": [
              "array([ 2, 11, 34])"
            ]
          },
          "execution_count": 22,
          "metadata": {},
          "output_type": "execute_result"
        }
      ],
      "source": [
        "np.unique([11, 11, 2, 2, 34, 34])"
      ]
    },
    {
      "cell_type": "code",
      "execution_count": null,
      "metadata": {
        "school_cell_uuid": "79c2907103b14088a59fdf122e3dab67",
        "id": "fNZOIuZu-9WT"
      },
      "outputs": [],
      "source": [
        "a = np.array(['a', 'b', 'b', 'c', 'a'])\n",
        "index, count = np.unique(a, return_counts=True)"
      ]
    },
    {
      "cell_type": "code",
      "execution_count": null,
      "metadata": {
        "school_cell_uuid": "6131e648511543cc87a1f4e8094b1fcd",
        "id": "HYQErvIf-9WT",
        "outputId": "ec5fab9c-f00d-4e4b-e5e5-590d1f9d9cdc"
      },
      "outputs": [
        {
          "data": {
            "text/plain": [
              "array(['a', 'b', 'c'], dtype='<U1')"
            ]
          },
          "execution_count": 24,
          "metadata": {},
          "output_type": "execute_result"
        }
      ],
      "source": [
        "index"
      ]
    },
    {
      "cell_type": "code",
      "execution_count": null,
      "metadata": {
        "school_cell_uuid": "22967dfb13a9429683e1fd6aa9d6f403",
        "id": "RqLc_F0V-9WT",
        "outputId": "68765c3e-a988-4803-81aa-d78fa309b7ea"
      },
      "outputs": [
        {
          "data": {
            "text/plain": [
              "array([2, 2, 1])"
            ]
          },
          "execution_count": 25,
          "metadata": {},
          "output_type": "execute_result"
        }
      ],
      "source": [
        "count"
      ]
    },
    {
      "cell_type": "markdown",
      "metadata": {
        "school_cell_uuid": "18b8cf36ccf841ddbfd0dff59390a821",
        "id": "VICvq0o2-9WU"
      },
      "source": [
        "그러나 `unique` 함수는 데이터에 존재하는 값에 대해서만 갯수를 세므로 데이터 값이 나올 수 있음에도 불구하고 데이터가 하나도 없는 경우에는 정보를 주지 않는다. 예를 들어 주사위를 10번 던졌는데 6이 한 번도 나오지 않으면 이 값을 0으로 세어주지 않는다."
      ]
    },
    {
      "cell_type": "markdown",
      "metadata": {
        "id": "V4ZH1iOF-9WU"
      },
      "source": [
        "```{margin}\n",
        "`bincount`\n",
        "```"
      ]
    },
    {
      "cell_type": "markdown",
      "metadata": {
        "id": "42_44ORR-9WU"
      },
      "source": [
        "따라서 데이터가 주사위를 던졌을 때 나오는 수처럼 특정 범위안의 수인 경우에는 `bincount` 함수에 `minlength` 인수를 설정하여 쓰는 것이 더 편리하다.  `bincount` 함수는 0 부터 `minlength` - 1 까지의 숫자에 대해 각각 카운트를 한다. 데이터가 없을 경우에는 카운트 값이 0이 된다."
      ]
    },
    {
      "cell_type": "code",
      "execution_count": null,
      "metadata": {
        "school_cell_uuid": "a8b0e11beab742bfaa0d9a4a6ec97b8c",
        "id": "k_dMLkmg-9WU",
        "outputId": "887fa357-e014-4a75-8da7-9114a318a818"
      },
      "outputs": [
        {
          "data": {
            "text/plain": [
              "array([0, 2, 3, 1, 0, 0])"
            ]
          },
          "execution_count": 26,
          "metadata": {},
          "output_type": "execute_result"
        }
      ],
      "source": [
        "np.bincount([1, 1, 2, 2, 2, 3], minlength=6)"
      ]
    }
  ],
  "metadata": {
    "kernelspec": {
      "display_name": "Python 3",
      "language": "python",
      "name": "python3"
    },
    "language_info": {
      "codemirror_mode": {
        "name": "ipython",
        "version": 3
      },
      "file_extension": ".py",
      "mimetype": "text/x-python",
      "name": "python",
      "nbconvert_exporter": "python",
      "pygments_lexer": "ipython3",
      "version": "3.7.6"
    },
    "colab": {
      "provenance": [],
      "include_colab_link": true
    }
  },
  "nbformat": 4,
  "nbformat_minor": 0
}