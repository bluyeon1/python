{
  "cells": [
    {
      "cell_type": "markdown",
      "metadata": {
        "id": "view-in-github",
        "colab_type": "text"
      },
      "source": [
        "<a href=\"https://colab.research.google.com/github/k2moon/python/blob/main/numpy/numpy03.ipynb\" target=\"_parent\"><img src=\"https://colab.research.google.com/assets/colab-badge.svg\" alt=\"Open In Colab\"/></a>"
      ]
    },
    {
      "cell_type": "markdown",
      "metadata": {
        "school_cell_uuid": "0ea1cb2d648c4b32b4a470ceaff6e365",
        "id": "5CoIxhb9-d7C"
      },
      "source": [
        "# 3.3 배열의 연산"
      ]
    },
    {
      "cell_type": "markdown",
      "metadata": {
        "school_cell_uuid": "ba121181d3504a5b8630ac1c7ac3c380",
        "id": "KzuOQrYn-d7E"
      },
      "source": [
        "## 벡터화 연산"
      ]
    },
    {
      "cell_type": "markdown",
      "metadata": {
        "id": "ANggTnS8-d7F"
      },
      "source": [
        "```{margin}\n",
        "벡터화 연산\n",
        "```"
      ]
    },
    {
      "cell_type": "markdown",
      "metadata": {
        "school_cell_uuid": "38debffc28524cfb8cf4e16be44a3682",
        "id": "u1SmQcY5-d7F"
      },
      "source": [
        "앞서 넘파이가 벡터화 연산(vectorized operation)을 지원한다고 이야기하였다. 벡터화 연산을 쓰면 명시적으로 반복문을 사용하지 않고도 배열의 모든 원소에 대해 반복연산을 할 수 있다. 벡터화 연산의 또다른 장점은 선형 대수 공식과 동일한 아주 간단한 파이썬 코드를 작성할 수 있다는 점이다. "
      ]
    },
    {
      "cell_type": "markdown",
      "metadata": {
        "school_cell_uuid": "8179c80979ee4153b3575cf27f34de9c",
        "id": "kRyxzTpZ-d7F"
      },
      "source": [
        "예를 들어 선형 대수에서 두 벡터의 합은 다음과 같이 구한다.\n",
        "\n",
        "$$ \n",
        "x = \\begin{bmatrix}1 \\\\ 2 \\\\ 3 \\\\ \\vdots \\\\ 10000 \\end{bmatrix}, \\;\\;\\;\\;\n",
        "y = \\begin{bmatrix}10001 \\\\ 10002 \\\\ 10003 \\\\ \\vdots \\\\ 20000 \\end{bmatrix},\n",
        "$$\n",
        "\n",
        "일 때, 두 벡터의 합\n",
        "\n",
        "$$ z = x + y $$\n",
        "\n",
        "은 다음과 같이 구한다.\n",
        "\n",
        "$$\n",
        "\\begin{bmatrix}1 \\\\ 2 \\\\ 3 \\\\ \\vdots \\\\ 10000 \\end{bmatrix} + \n",
        "\\begin{bmatrix}10001 \\\\ 10002 \\\\ 10003 \\\\ \\vdots \\\\ 20000 \\end{bmatrix} \n",
        "= \\begin{bmatrix}1+10001 \\\\ 2+10002 \\\\ 3+10003 \\\\ \\vdots \\\\ 10000+20000 \\end{bmatrix}\n",
        "= \\begin{bmatrix}10002 \\\\ 10004 \\\\ 10006 \\\\ \\vdots \\\\ 30000 \\end{bmatrix}\n",
        "$$"
      ]
    },
    {
      "cell_type": "markdown",
      "metadata": {
        "id": "9KRWLDZJ-d7F"
      },
      "source": [
        "```{margin}\n",
        "`%%time`\n",
        "```"
      ]
    },
    {
      "cell_type": "markdown",
      "metadata": {
        "school_cell_uuid": "cae255330dad415dbdb11d952c933179",
        "id": "GpjXuIw7-d7G"
      },
      "source": [
        "만약 벡터화 연산을 사용하지 않는다면 이 연산은 반복문을 사용하여 다음과 같이 만들어야 한다. 이 코드에서 `%%time`은 셀 코드의 실행시간을 측정하는 아이파이썬(IPython) 매직(magic) 명령이다."
      ]
    },
    {
      "cell_type": "code",
      "execution_count": null,
      "metadata": {
        "school_cell_uuid": "43a02345a5b34bf49920731d1399407a",
        "id": "5hWPk_hi-d7G"
      },
      "outputs": [],
      "source": [
        "x = np.arange(1, 10001)\n",
        "y = np.arange(10001, 20001)"
      ]
    },
    {
      "cell_type": "code",
      "execution_count": null,
      "metadata": {
        "school_cell_uuid": "e394589a9f0549ef99a19ef1ac56a10d",
        "id": "o45KjZkv-d7H",
        "outputId": "553f619d-f49e-4189-a542-1097c92cff8a"
      },
      "outputs": [
        {
          "name": "stdout",
          "output_type": "stream",
          "text": [
            "CPU times: user 0 ns, sys: 0 ns, total: 0 ns\n",
            "Wall time: 5.84 ms\n"
          ]
        }
      ],
      "source": [
        "%%time\n",
        "z = np.zeros_like(x)\n",
        "for i in range(10000):\n",
        "    z[i] = x[i] + y[i]"
      ]
    },
    {
      "cell_type": "code",
      "execution_count": null,
      "metadata": {
        "school_cell_uuid": "27efabf67f2147fbbc970362322736b5",
        "id": "sBtrv0xX-d7I",
        "outputId": "6c8c8432-72d9-4427-cc33-f4af2817a00d"
      },
      "outputs": [
        {
          "data": {
            "text/plain": [
              "array([10002, 10004, 10006, 10008, 10010, 10012, 10014, 10016, 10018,\n",
              "       10020])"
            ]
          },
          "execution_count": 3,
          "metadata": {},
          "output_type": "execute_result"
        }
      ],
      "source": [
        "z[:10]"
      ]
    },
    {
      "cell_type": "markdown",
      "metadata": {
        "school_cell_uuid": "70c218b99c184c379374730cf167e061",
        "id": "LVUvkn-b-d7I"
      },
      "source": [
        "그러나 벡터화 연산을 사용하면 덧셈 연산 하나로 끝난다. 위에서 보인 선형 대수의 벡터 기호를 사용한 연산과 결과가 완전히 동일하다. 연산 속도도 벡터화 연산이 훨씬 빠르다."
      ]
    },
    {
      "cell_type": "code",
      "execution_count": null,
      "metadata": {
        "school_cell_uuid": "4b5879e2324a486a88b73abc04678509",
        "id": "BhZ-pf_W-d7I",
        "outputId": "8b12cb6a-260f-4603-bc99-9fa7ed19fa31"
      },
      "outputs": [
        {
          "name": "stdout",
          "output_type": "stream",
          "text": [
            "CPU times: user 0 ns, sys: 0 ns, total: 0 ns\n",
            "Wall time: 562 µs\n"
          ]
        }
      ],
      "source": [
        "%%time\n",
        "z = x + y"
      ]
    },
    {
      "cell_type": "code",
      "execution_count": null,
      "metadata": {
        "school_cell_uuid": "ebb8b1551efd401486476b0078ec9dca",
        "id": "zApxe5PB-d7J",
        "outputId": "c52b8a4d-92f9-4f2f-b5d9-fd9bf88f5c94"
      },
      "outputs": [
        {
          "data": {
            "text/plain": [
              "array([10002, 10004, 10006, 10008, 10010, 10012, 10014, 10016, 10018,\n",
              "       10020])"
            ]
          },
          "execution_count": 5,
          "metadata": {},
          "output_type": "execute_result"
        }
      ],
      "source": [
        "z[:10]"
      ]
    },
    {
      "cell_type": "markdown",
      "metadata": {
        "school_cell_uuid": "9e19a482944f43058bab8b740322d316",
        "id": "VEDaJqXb-d7J"
      },
      "source": [
        "사칙 연산뿐 아니라 비교 연산과 같은 논리 연산도 벡터화 연산이 가능하다."
      ]
    },
    {
      "cell_type": "code",
      "execution_count": null,
      "metadata": {
        "school_cell_uuid": "038b4a36fce64eb285ef8532939a5162",
        "id": "IUAFi4e9-d7J"
      },
      "outputs": [],
      "source": [
        "a = np.array([1, 2, 3, 4])\n",
        "b = np.array([4, 2, 2, 4])"
      ]
    },
    {
      "cell_type": "code",
      "execution_count": null,
      "metadata": {
        "school_cell_uuid": "e1d4177a018e491d9bc8a5ce4eb9da77",
        "id": "RH8xPOWB-d7J",
        "outputId": "f08f9725-5b5c-435c-f14b-163e7c072af6"
      },
      "outputs": [
        {
          "data": {
            "text/plain": [
              "array([False,  True, False,  True])"
            ]
          },
          "execution_count": 7,
          "metadata": {},
          "output_type": "execute_result"
        }
      ],
      "source": [
        "a == b"
      ]
    },
    {
      "cell_type": "code",
      "execution_count": null,
      "metadata": {
        "school_cell_uuid": "440891a6627b474eaa23579f1c0252e8",
        "id": "hgC2Ofw5-d7J",
        "outputId": "23a36c38-26c8-4e70-f2a6-0665581fa50b"
      },
      "outputs": [
        {
          "data": {
            "text/plain": [
              "array([False,  True,  True,  True])"
            ]
          },
          "execution_count": 8,
          "metadata": {},
          "output_type": "execute_result"
        }
      ],
      "source": [
        "a >= b"
      ]
    },
    {
      "cell_type": "markdown",
      "metadata": {
        "school_cell_uuid": "e5090626165c4845b510453b35b18807",
        "id": "wRYE3qj0-d7K"
      },
      "source": [
        "만약 배열의 각 원소들을 일일히 비교하는 것이 아니라 배열의 모든 원소가 다 같은지 알고 싶다면 `all` 명령을 사용하면 된다."
      ]
    },
    {
      "cell_type": "code",
      "execution_count": null,
      "metadata": {
        "school_cell_uuid": "ed4036684b2f48998a3884955559dbb3",
        "id": "IyhgW-zA-d7K"
      },
      "outputs": [],
      "source": [
        "a = np.array([1, 2, 3, 4])\n",
        "b = np.array([4, 2, 2, 4])\n",
        "c = np.array([1, 2, 3, 4])"
      ]
    },
    {
      "cell_type": "code",
      "execution_count": null,
      "metadata": {
        "school_cell_uuid": "47af2826504f4d7cb245c22e6bfa53a0",
        "id": "VOfQbHj3-d7K",
        "outputId": "537a9e29-697c-4638-9e30-594c98d36f8f"
      },
      "outputs": [
        {
          "data": {
            "text/plain": [
              "False"
            ]
          },
          "execution_count": 10,
          "metadata": {},
          "output_type": "execute_result"
        }
      ],
      "source": [
        "np.all(a == b)"
      ]
    },
    {
      "cell_type": "code",
      "execution_count": null,
      "metadata": {
        "school_cell_uuid": "2ea792fe0083434babcdcf05827b60a9",
        "id": "oHvzJgP0-d7K",
        "outputId": "c32a16e9-e95d-4f6f-c33f-6e8fa0208d27"
      },
      "outputs": [
        {
          "data": {
            "text/plain": [
              "True"
            ]
          },
          "execution_count": 11,
          "metadata": {},
          "output_type": "execute_result"
        }
      ],
      "source": [
        "np.all(a == c)"
      ]
    },
    {
      "cell_type": "markdown",
      "metadata": {
        "school_cell_uuid": "961b42ba92dc421a9d3267050dd50a3c",
        "id": "1p_Bb7-P-d7K"
      },
      "source": [
        "지수 함수, 로그 함수 등의 수학 함수도 벡터화 연산을 지원한다."
      ]
    },
    {
      "cell_type": "code",
      "execution_count": null,
      "metadata": {
        "school_cell_uuid": "4af16308f8b24b4a916e20bbf4f2c754",
        "id": "Qhr4guPR-d7L",
        "outputId": "d5195ddf-ae09-4594-cf92-f6608171a826"
      },
      "outputs": [
        {
          "data": {
            "text/plain": [
              "array([0, 1, 2, 3, 4])"
            ]
          },
          "execution_count": 12,
          "metadata": {},
          "output_type": "execute_result"
        }
      ],
      "source": [
        "a = np.arange(5)\n",
        "a"
      ]
    },
    {
      "cell_type": "code",
      "execution_count": null,
      "metadata": {
        "school_cell_uuid": "c233a6049ecd4a2e8e9da7431a1816cf",
        "id": "gfEQF02j-d7L",
        "outputId": "9c2ca384-25bc-47f8-a544-684f83834146"
      },
      "outputs": [
        {
          "data": {
            "text/plain": [
              "array([ 1.        ,  2.71828183,  7.3890561 , 20.08553692, 54.59815003])"
            ]
          },
          "execution_count": 13,
          "metadata": {},
          "output_type": "execute_result"
        }
      ],
      "source": [
        "np.exp(a)"
      ]
    },
    {
      "cell_type": "code",
      "execution_count": null,
      "metadata": {
        "school_cell_uuid": "4bf8599c6b4f4f239a3516037d8f1aff",
        "id": "43Ma1HV4-d7L",
        "outputId": "d722eaf5-cc75-4176-b488-ca7b0a881372"
      },
      "outputs": [
        {
          "data": {
            "text/plain": [
              "array([    1,    10,   100,  1000, 10000])"
            ]
          },
          "execution_count": 14,
          "metadata": {},
          "output_type": "execute_result"
        }
      ],
      "source": [
        "10 ** a"
      ]
    },
    {
      "cell_type": "code",
      "execution_count": null,
      "metadata": {
        "school_cell_uuid": "1ead02961e2e4465ac03343eb69f8c49",
        "id": "mTlzq2dD-d7L",
        "outputId": "048c6577-7271-4573-dfa0-dbdcba333e40"
      },
      "outputs": [
        {
          "data": {
            "text/plain": [
              "array([0.        , 0.69314718, 1.09861229, 1.38629436, 1.60943791])"
            ]
          },
          "execution_count": 15,
          "metadata": {},
          "output_type": "execute_result"
        }
      ],
      "source": [
        "np.log(a + 1)"
      ]
    },
    {
      "cell_type": "markdown",
      "metadata": {
        "school_cell_uuid": "cc41e574e2e1442fa056f8705c573ed1",
        "id": "QUuvHmgV-d7M"
      },
      "source": [
        "## 스칼라와 벡터/행렬의 곱셈"
      ]
    },
    {
      "cell_type": "markdown",
      "metadata": {
        "school_cell_uuid": "e8a4db7d3b1c4b73a0e62940873bc121",
        "id": "Vc2xZOms-d7M"
      },
      "source": [
        "스칼라와 벡터/행렬의 곱도 선형 대수에서 사용하는 식과 넘파이 코드가 일치한다."
      ]
    },
    {
      "cell_type": "code",
      "execution_count": null,
      "metadata": {
        "school_cell_uuid": "3e970677dacd48bf884d5af62a17ce73",
        "id": "LhqV8RUG-d7M",
        "outputId": "4e8f365b-06a5-422e-963e-a6df92766f32"
      },
      "outputs": [
        {
          "data": {
            "text/plain": [
              "array([0, 1, 2, 3, 4, 5, 6, 7, 8, 9])"
            ]
          },
          "execution_count": 1,
          "metadata": {},
          "output_type": "execute_result"
        }
      ],
      "source": [
        "x = np.arange(10)\n",
        "x"
      ]
    },
    {
      "cell_type": "code",
      "execution_count": null,
      "metadata": {
        "school_cell_uuid": "a7a2cde01e804680ab9be92e00985ac2",
        "scrolled": true,
        "id": "T96XzIht-d7M",
        "outputId": "5ad9361b-5147-4a8f-eb43-1a08bb00d9da"
      },
      "outputs": [
        {
          "data": {
            "text/plain": [
              "array([  0, 100, 200, 300, 400, 500, 600, 700, 800, 900])"
            ]
          },
          "execution_count": 2,
          "metadata": {},
          "output_type": "execute_result"
        }
      ],
      "source": [
        "100 * x"
      ]
    },
    {
      "cell_type": "code",
      "execution_count": null,
      "metadata": {
        "school_cell_uuid": "3e970677dacd48bf884d5af62a17ce73",
        "id": "VZfox7Ji-d7M",
        "outputId": "6f7a0b8c-ca6b-4464-e5f7-1aec3edcea2f"
      },
      "outputs": [
        {
          "data": {
            "text/plain": [
              "array([[ 0,  1,  2,  3],\n",
              "       [ 4,  5,  6,  7],\n",
              "       [ 8,  9, 10, 11]])"
            ]
          },
          "execution_count": 18,
          "metadata": {},
          "output_type": "execute_result"
        }
      ],
      "source": [
        "x = np.arange(12).reshape(3, 4)\n",
        "x"
      ]
    },
    {
      "cell_type": "code",
      "execution_count": null,
      "metadata": {
        "school_cell_uuid": "a7a2cde01e804680ab9be92e00985ac2",
        "scrolled": true,
        "id": "vTrlAnBk-d7N",
        "outputId": "75794e82-bded-4dd3-e9e7-6c6a066d4c5e"
      },
      "outputs": [
        {
          "data": {
            "text/plain": [
              "array([[   0,  100,  200,  300],\n",
              "       [ 400,  500,  600,  700],\n",
              "       [ 800,  900, 1000, 1100]])"
            ]
          },
          "execution_count": 19,
          "metadata": {},
          "output_type": "execute_result"
        }
      ],
      "source": [
        "100 * x"
      ]
    },
    {
      "cell_type": "markdown",
      "metadata": {
        "school_cell_uuid": "39e05f909eee4a9a8b4a5d8df423c017",
        "id": "IMe42qnr-d7N"
      },
      "source": [
        "## 브로드캐스팅"
      ]
    },
    {
      "cell_type": "markdown",
      "metadata": {
        "id": "1x6rLfPd-d7N"
      },
      "source": [
        "```{margin}\n",
        "브로드캐스팅\n",
        "```"
      ]
    },
    {
      "cell_type": "markdown",
      "metadata": {
        "school_cell_uuid": "24c93d5c01da41ff8deaabcf8c01bd48",
        "id": "qjNd0ZCR-d7N"
      },
      "source": [
        "벡터(또는 행렬)끼리 덧셈 혹은 뺄셈을 하려면 두 벡터(또는 행렬)의 크기가 같아야 한다. 넘파이에서는 서로 다른 크기를 가진 두 배열의 사칙 연산도 지원한다. 이 기능을 브로드캐스팅(broadcasting)이라고 하는데 크기가 작은 배열을 자동으로 반복 확장하여 크기가 큰 배열에 맞추는 방벙이다."
      ]
    },
    {
      "cell_type": "markdown",
      "metadata": {
        "school_cell_uuid": "f07fd37026384e37b5048b465b583f9f",
        "id": "hFs9KBWO-d7N"
      },
      "source": [
        "예를 들어 다음과 같이 벡터와 스칼라를 더하는 경우를 생각하자.\n",
        "\n",
        "$$ \n",
        "x = \\begin{bmatrix}0 \\\\ 1 \\\\ 2 \\\\ 3 \\\\ 4 \\end{bmatrix}, \\;\\;\\;\\; \n",
        "x + 1 = \\begin{bmatrix}0 \\\\ 1 \\\\ 2 \\\\ 3 \\\\ 4 \\end{bmatrix} + 1 = ?\n",
        "$$\n"
      ]
    },
    {
      "cell_type": "markdown",
      "metadata": {
        "school_cell_uuid": "aa1da390d7fa41a0bb1e5af4858c5707",
        "id": "LiC94QyV-d7N"
      },
      "source": [
        "브로드캐스팅은 다음과 같이 스칼라를 벡터와 같은 크기로 확장시켜서 덧셈 계산을 하는 것이다.\n",
        "\n",
        "$$ \n",
        "\\begin{bmatrix}0 \\\\ 1 \\\\ 2 \\\\ 3 \\\\ 4 \\end{bmatrix} + 1 = \n",
        "\\begin{bmatrix}0 \\\\ 1 \\\\ 2 \\\\ 3 \\\\ 4 \\end{bmatrix} +  \\begin{bmatrix}1 \\\\ 1 \\\\ 1 \\\\ 1 \\\\ 1 \\end{bmatrix} = \n",
        "\\begin{bmatrix}1 \\\\ 2 \\\\ 3 \\\\ 4 \\\\ 5 \\end{bmatrix}\n",
        "$$"
      ]
    },
    {
      "cell_type": "code",
      "execution_count": null,
      "metadata": {
        "school_cell_uuid": "dfa8f380fcd843ce89c134ad843552a6",
        "id": "sSlnVlbq-d7N",
        "outputId": "0ad225e5-6086-420b-aaed-d638c7f7920a"
      },
      "outputs": [
        {
          "data": {
            "text/plain": [
              "array([0, 1, 2, 3, 4])"
            ]
          },
          "execution_count": 20,
          "metadata": {},
          "output_type": "execute_result"
        }
      ],
      "source": [
        "x = np.arange(5)\n",
        "x"
      ]
    },
    {
      "cell_type": "code",
      "execution_count": null,
      "metadata": {
        "school_cell_uuid": "dfa8f380fcd843ce89c134ad843552a6",
        "id": "XlhlJj2G-d7O",
        "outputId": "64e5aa13-f58e-47c2-c0f1-233bd2e934a9"
      },
      "outputs": [
        {
          "data": {
            "text/plain": [
              "array([1, 1, 1, 1, 1])"
            ]
          },
          "execution_count": 21,
          "metadata": {},
          "output_type": "execute_result"
        }
      ],
      "source": [
        "y = np.ones_like(x)\n",
        "y"
      ]
    },
    {
      "cell_type": "code",
      "execution_count": null,
      "metadata": {
        "school_cell_uuid": "dfa8f380fcd843ce89c134ad843552a6",
        "id": "bw7hHCnF-d7Y",
        "outputId": "4fd6f0c7-e2ee-464b-e469-012635f3cc17"
      },
      "outputs": [
        {
          "data": {
            "text/plain": [
              "array([1, 2, 3, 4, 5])"
            ]
          },
          "execution_count": 22,
          "metadata": {},
          "output_type": "execute_result"
        }
      ],
      "source": [
        "x + y"
      ]
    },
    {
      "cell_type": "code",
      "execution_count": null,
      "metadata": {
        "school_cell_uuid": "bf8acff86f344876bf50fa9fd952bcca",
        "id": "-YZDE3Ag-d7Y",
        "outputId": "19a62be3-ab48-4e87-811a-8370a7f97746"
      },
      "outputs": [
        {
          "data": {
            "text/plain": [
              "array([1, 2, 3, 4, 5])"
            ]
          },
          "execution_count": 23,
          "metadata": {},
          "output_type": "execute_result"
        }
      ],
      "source": [
        "x + 1"
      ]
    },
    {
      "cell_type": "markdown",
      "metadata": {
        "school_cell_uuid": "b34ef12b44ae467fac2b3d6961a97423",
        "id": "T1kpu__e-d7Z"
      },
      "source": [
        "브로드캐스팅은 다음처럼 더 차원이 높은 경우에도 적용된다.\n",
        "\n",
        "$$ \n",
        "\\begin{bmatrix}0 & 1 & 2 \\\\ 1 & 2 & 3 \\\\ 2 & 3 & 4 \\\\ 3 & 4 & 5 \\\\ 4 & 5 & 6 \\end{bmatrix}\n",
        "+\n",
        "\\begin{bmatrix}0 \\\\ 1 \\\\ 2 \\\\ 3 \\\\ 4 \\end{bmatrix} \n",
        "=\n",
        "\\begin{bmatrix}0 & 1 & 2 \\\\ 1 & 2 & 3 \\\\ 2 & 3 & 4 \\\\ 3 & 4 & 5 \\\\ 4 & 5 & 6 \\end{bmatrix}\n",
        "+\n",
        "\\begin{bmatrix}0 & 0 & 0 \\\\ 1 & 1 & 1 \\\\ 2 & 2 & 2 \\\\ 3 & 3 & 3 \\\\ 4 & 4 & 4 \\end{bmatrix}\n",
        "$$\n",
        "\n",
        "$$ \n",
        "\\begin{bmatrix}0 & 1 & 2 \\\\ 1 & 2 & 3 \\\\ 2 & 3 & 4 \\\\ 3 & 4 & 5 \\\\ 4 & 5 & 6 \\end{bmatrix}\n",
        "+\n",
        "\\begin{bmatrix}0 & 1 & 2 \\end{bmatrix} \n",
        "=\n",
        "\\begin{bmatrix}0 & 1 & 2 \\\\ 1 & 2 & 3 \\\\ 2 & 3 & 4 \\\\ 3 & 4 & 5 \\\\ 4 & 5 & 6 \\end{bmatrix}\n",
        "+\n",
        "\\begin{bmatrix}0 & 1 & 2 \\\\ 0 & 1 & 2 \\\\ 0 & 1 & 2 \\\\ 0 & 1 & 2 \\\\ 0 & 1 & 2 \\end{bmatrix} \n",
        "$$"
      ]
    },
    {
      "cell_type": "code",
      "execution_count": null,
      "metadata": {
        "school_cell_uuid": "59fe53f652234f1bb0149eb08d781531",
        "id": "yvJeNVqV-d7Z",
        "outputId": "5295ea44-9fa0-4395-951f-d6da8e33a3f5"
      },
      "outputs": [
        {
          "data": {
            "text/plain": [
              "array([[0, 1, 2],\n",
              "       [1, 2, 3],\n",
              "       [2, 3, 4],\n",
              "       [3, 4, 5],\n",
              "       [4, 5, 6]])"
            ]
          },
          "execution_count": 24,
          "metadata": {},
          "output_type": "execute_result"
        }
      ],
      "source": [
        "x = np.vstack([range(7)[i:i + 3] for i in range(5)])\n",
        "x"
      ]
    },
    {
      "cell_type": "code",
      "execution_count": null,
      "metadata": {
        "school_cell_uuid": "55d00c71cc3647dba5e4a6c5efc9b707",
        "id": "DVvdKl7N-d7Z",
        "outputId": "b31179a5-2c8f-498d-b6cd-c68047f2c664"
      },
      "outputs": [
        {
          "data": {
            "text/plain": [
              "array([[0],\n",
              "       [1],\n",
              "       [2],\n",
              "       [3],\n",
              "       [4]])"
            ]
          },
          "execution_count": 25,
          "metadata": {},
          "output_type": "execute_result"
        }
      ],
      "source": [
        "y = np.arange(5)[:, np.newaxis]\n",
        "y"
      ]
    },
    {
      "cell_type": "code",
      "execution_count": null,
      "metadata": {
        "school_cell_uuid": "fbc9d7e17b1c4e8693f556170f3bdc05",
        "id": "ZkcsrByt-d7Z",
        "outputId": "0f7015bd-55e2-4c5f-8d00-3e474863b15e"
      },
      "outputs": [
        {
          "data": {
            "text/plain": [
              "array([[ 0,  1,  2],\n",
              "       [ 2,  3,  4],\n",
              "       [ 4,  5,  6],\n",
              "       [ 6,  7,  8],\n",
              "       [ 8,  9, 10]])"
            ]
          },
          "execution_count": 26,
          "metadata": {},
          "output_type": "execute_result"
        }
      ],
      "source": [
        "x + y"
      ]
    },
    {
      "cell_type": "code",
      "execution_count": null,
      "metadata": {
        "school_cell_uuid": "211b13e4553e4e7eaef544c17e52472c",
        "id": "aK94ws5W-d7a",
        "outputId": "febf763b-9686-4131-da52-a3efadf979a4"
      },
      "outputs": [
        {
          "data": {
            "text/plain": [
              "array([0, 1, 2])"
            ]
          },
          "execution_count": 27,
          "metadata": {},
          "output_type": "execute_result"
        }
      ],
      "source": [
        "y = np.arange(3)\n",
        "y"
      ]
    },
    {
      "cell_type": "code",
      "execution_count": null,
      "metadata": {
        "school_cell_uuid": "1492f4e735d74a0cb5299157e08bbcc4",
        "id": "m0F2V-gL-d7a",
        "outputId": "14f963ce-a8e8-4a16-cb49-78a580407285"
      },
      "outputs": [
        {
          "data": {
            "text/plain": [
              "array([[0, 2, 4],\n",
              "       [1, 3, 5],\n",
              "       [2, 4, 6],\n",
              "       [3, 5, 7],\n",
              "       [4, 6, 8]])"
            ]
          },
          "execution_count": 28,
          "metadata": {},
          "output_type": "execute_result"
        }
      ],
      "source": [
        "x + y"
      ]
    },
    {
      "cell_type": "markdown",
      "metadata": {
        "school_cell_uuid": "152f82a6ff9c47d19b20604001ee1474",
        "id": "6h5_aio6-d7a"
      },
      "source": [
        "## 차원 축소 연산"
      ]
    },
    {
      "cell_type": "markdown",
      "metadata": {
        "id": "tk4dWvHD-d7a"
      },
      "source": [
        "```{margin}\n",
        "차원 축소 연산\n",
        "```"
      ]
    },
    {
      "cell_type": "markdown",
      "metadata": {
        "school_cell_uuid": "ea6de8294ef24f8a90e3a7f5b1af333d",
        "id": "e0XbL_Jb-d7a"
      },
      "source": [
        "행렬의 하나의 행에 있는 원소들을 하나의 데이터 집합으로 보고 그 집합의 평균을 구하면 각 행에 대해 하나의 숫자가 나오게 된다. 예를 들어 10x5 크기의 2차원 배열에 대해 행-평균을 구하면 10개의 숫자를 가진 1차원 벡터가 나오게 된다. 이러한 연산을 차원 축소(dimension reduction) 연산이라고 한다.\n",
        "\n",
        "넘파이는 다음과 같은 차원 축소 연산 명령 혹은 메서드를 지원한다.\n",
        "\n",
        "* 최대/최소: `min`, `max`, `argmin`, `argmax`\n",
        "* 통계: `sum`, `mean`, `median`, `std`, `var`\n",
        "* 불리언: `all`, `any`"
      ]
    },
    {
      "cell_type": "code",
      "execution_count": null,
      "metadata": {
        "school_cell_uuid": "ccd1df25573247b681fc618470aabb40",
        "id": "6-VmvAp7-d7b",
        "outputId": "6697fcb7-5beb-4745-cc25-6375a06cb3b8"
      },
      "outputs": [
        {
          "data": {
            "text/plain": [
              "array([1, 2, 3, 4])"
            ]
          },
          "execution_count": 29,
          "metadata": {},
          "output_type": "execute_result"
        }
      ],
      "source": [
        "x = np.array([1, 2, 3, 4])\n",
        "x"
      ]
    },
    {
      "cell_type": "code",
      "execution_count": null,
      "metadata": {
        "school_cell_uuid": "f07e9a58c1ab4596956b8a58c4e3ac6c",
        "id": "sr5fNnpw-d7b",
        "outputId": "37661b70-b7f8-4e4b-a84f-78104feecb7f"
      },
      "outputs": [
        {
          "data": {
            "text/plain": [
              "10"
            ]
          },
          "execution_count": 30,
          "metadata": {},
          "output_type": "execute_result"
        }
      ],
      "source": [
        "np.sum(x)"
      ]
    },
    {
      "cell_type": "code",
      "execution_count": null,
      "metadata": {
        "school_cell_uuid": "749d2e630fea473c85521031502592b0",
        "id": "VqTOXCur-d7b",
        "outputId": "45bd371a-f412-4059-b487-3f2920cca335"
      },
      "outputs": [
        {
          "data": {
            "text/plain": [
              "10"
            ]
          },
          "execution_count": 31,
          "metadata": {},
          "output_type": "execute_result"
        }
      ],
      "source": [
        "x.sum()"
      ]
    },
    {
      "cell_type": "code",
      "execution_count": null,
      "metadata": {
        "school_cell_uuid": "f3ff024a3bdb40a491510909ae687c65",
        "id": "gIKUgm98-d7b"
      },
      "outputs": [],
      "source": [
        "x = np.array([1, 3, 2])"
      ]
    },
    {
      "cell_type": "code",
      "execution_count": null,
      "metadata": {
        "school_cell_uuid": "851b3b39dc2d4f859db76e514c21c136",
        "id": "fOU8Kdx7-d7c",
        "outputId": "94fc30a6-5aa7-4754-9e2e-cced4c32a8ce"
      },
      "outputs": [
        {
          "data": {
            "text/plain": [
              "1"
            ]
          },
          "execution_count": 33,
          "metadata": {},
          "output_type": "execute_result"
        }
      ],
      "source": [
        "x.min()"
      ]
    },
    {
      "cell_type": "code",
      "execution_count": null,
      "metadata": {
        "school_cell_uuid": "5a6fe785d97d4d1fa6dd4ae9fb4ad5af",
        "id": "kV8--90v-d7c",
        "outputId": "65518521-ac80-4056-d468-27e06162b9d2"
      },
      "outputs": [
        {
          "data": {
            "text/plain": [
              "3"
            ]
          },
          "execution_count": 34,
          "metadata": {},
          "output_type": "execute_result"
        }
      ],
      "source": [
        "x.max()"
      ]
    },
    {
      "cell_type": "code",
      "execution_count": null,
      "metadata": {
        "school_cell_uuid": "cbd68049b33140138d9a6af780ec9533",
        "id": "kIF96a8J-d7c",
        "outputId": "4a4e8405-c76a-48d1-9b1b-cc9d6b829121"
      },
      "outputs": [
        {
          "data": {
            "text/plain": [
              "0"
            ]
          },
          "execution_count": 35,
          "metadata": {},
          "output_type": "execute_result"
        }
      ],
      "source": [
        "x.argmin()  # 최솟값의 위치"
      ]
    },
    {
      "cell_type": "code",
      "execution_count": null,
      "metadata": {
        "school_cell_uuid": "26877674221441929d8195b7ee82a412",
        "id": "QDwoA76P-d7c",
        "outputId": "fb3a5367-688a-4fa8-811b-bdfd5223abe7"
      },
      "outputs": [
        {
          "data": {
            "text/plain": [
              "1"
            ]
          },
          "execution_count": 36,
          "metadata": {},
          "output_type": "execute_result"
        }
      ],
      "source": [
        "x.argmax()  # 최댓값의 위치"
      ]
    },
    {
      "cell_type": "code",
      "execution_count": null,
      "metadata": {
        "school_cell_uuid": "a48208d67a88470481d9dcd009e1640f",
        "id": "PJ21lZOt-d7c"
      },
      "outputs": [],
      "source": [
        "x = np.array([1, 2, 3, 1])"
      ]
    },
    {
      "cell_type": "code",
      "execution_count": null,
      "metadata": {
        "school_cell_uuid": "1ebcfd5b08c7458bb541566b6f84d532",
        "id": "lmjs1K8w-d7d",
        "outputId": "b8a72ca6-5390-479e-d6fe-16e97dc3999b"
      },
      "outputs": [
        {
          "data": {
            "text/plain": [
              "1.75"
            ]
          },
          "execution_count": 38,
          "metadata": {},
          "output_type": "execute_result"
        }
      ],
      "source": [
        "x.mean()"
      ]
    },
    {
      "cell_type": "code",
      "execution_count": null,
      "metadata": {
        "school_cell_uuid": "da921453ae0c446d86200dc122ce3c4f",
        "id": "VexJSAa2-d7d",
        "outputId": "7ba9926c-3e68-4d85-c20d-ad6952b2a59e"
      },
      "outputs": [
        {
          "data": {
            "text/plain": [
              "1.5"
            ]
          },
          "execution_count": 39,
          "metadata": {},
          "output_type": "execute_result"
        }
      ],
      "source": [
        "np.median(x)"
      ]
    },
    {
      "cell_type": "code",
      "execution_count": null,
      "metadata": {
        "school_cell_uuid": "04a4b7c6a8594bf59be69dcd92040e06",
        "id": "ZTkIb0Fl-d7d",
        "outputId": "69438e5d-b5e0-4996-8757-16a924511de4"
      },
      "outputs": [
        {
          "data": {
            "text/plain": [
              "False"
            ]
          },
          "execution_count": 40,
          "metadata": {},
          "output_type": "execute_result"
        }
      ],
      "source": [
        "np.all([True, True, False])"
      ]
    },
    {
      "cell_type": "code",
      "execution_count": null,
      "metadata": {
        "school_cell_uuid": "215b302170434d4cbb182ea9abd141ef",
        "id": "BXTgtv4K-d7d",
        "outputId": "e37334f2-a9f2-418c-f896-88717e9c746c"
      },
      "outputs": [
        {
          "data": {
            "text/plain": [
              "True"
            ]
          },
          "execution_count": 41,
          "metadata": {},
          "output_type": "execute_result"
        }
      ],
      "source": [
        "np.any([True, True, False])"
      ]
    },
    {
      "cell_type": "code",
      "execution_count": null,
      "metadata": {
        "school_cell_uuid": "53d2c41136214f21b893c6dc0578f7d1",
        "id": "sd-mhN6k-d7d",
        "outputId": "12c7f69a-7f1c-40da-a3aa-1e5c339e8b84"
      },
      "outputs": [
        {
          "data": {
            "text/plain": [
              "array([[0, 0, 0, ..., 0, 0, 0],\n",
              "       [0, 0, 0, ..., 0, 0, 0],\n",
              "       [0, 0, 0, ..., 0, 0, 0],\n",
              "       ...,\n",
              "       [0, 0, 0, ..., 0, 0, 0],\n",
              "       [0, 0, 0, ..., 0, 0, 0],\n",
              "       [0, 0, 0, ..., 0, 0, 0]])"
            ]
          },
          "execution_count": 42,
          "metadata": {},
          "output_type": "execute_result"
        }
      ],
      "source": [
        "a = np.zeros((100, 100), dtype=np.int)\n",
        "a"
      ]
    },
    {
      "cell_type": "code",
      "execution_count": null,
      "metadata": {
        "school_cell_uuid": "66d3a722a6fb44aaa61ee946f4cf13c9",
        "id": "aEugFcgz-d7e",
        "outputId": "7892f289-f58d-4d17-ef34-b59a2584b32f"
      },
      "outputs": [
        {
          "data": {
            "text/plain": [
              "False"
            ]
          },
          "execution_count": 43,
          "metadata": {},
          "output_type": "execute_result"
        }
      ],
      "source": [
        "np.any(a != 0)"
      ]
    },
    {
      "cell_type": "code",
      "execution_count": null,
      "metadata": {
        "school_cell_uuid": "26b68ab134e340f9a16de4e831ce7b2d",
        "id": "XlWbvvGu-d7e",
        "outputId": "cd78dc8d-a60b-4c36-e198-9d1e1c894b60"
      },
      "outputs": [
        {
          "data": {
            "text/plain": [
              "True"
            ]
          },
          "execution_count": 44,
          "metadata": {},
          "output_type": "execute_result"
        }
      ],
      "source": [
        "np.all(a == a)"
      ]
    },
    {
      "cell_type": "code",
      "execution_count": null,
      "metadata": {
        "school_cell_uuid": "02bbac130d5d4c7bb7fa4eae977da963",
        "id": "BL7q8BEU-d7e"
      },
      "outputs": [],
      "source": [
        "a = np.array([1, 2, 3, 2])\n",
        "b = np.array([2, 2, 3, 2])\n",
        "c = np.array([6, 4, 4, 5])"
      ]
    },
    {
      "cell_type": "code",
      "execution_count": null,
      "metadata": {
        "school_cell_uuid": "97d7966c360843698e71eb562753d221",
        "id": "MTGUJpI5-d7e",
        "outputId": "f750e0f7-d9b8-41ab-c0c7-3792700e8abe"
      },
      "outputs": [
        {
          "data": {
            "text/plain": [
              "True"
            ]
          },
          "execution_count": 46,
          "metadata": {},
          "output_type": "execute_result"
        }
      ],
      "source": [
        "((a <= b) & (b <= c)).all()"
      ]
    },
    {
      "cell_type": "markdown",
      "metadata": {
        "school_cell_uuid": "3135e5446c87490d9cbbc359e8b1cf24",
        "id": "Vc6bVhqI-d7e"
      },
      "source": [
        "연산의 대상이 2차원 이상인 경우에는 어느 차원으로 계산을 할 지를 `axis` 인수를 사용하여 지시한다. `axis=0`인 경우는 열 연산, `axis=1`인 경우는 행 연산이다. 디폴트 값은 `axis=0`이다. `axis` 인수는 대부분의 차원 축소 명령에 적용할 수 있다."
      ]
    },
    {
      "cell_type": "code",
      "execution_count": null,
      "metadata": {
        "school_cell_uuid": "48aad9731e19468388f4fa39fbe31584",
        "id": "QxSzn3FH-d7f",
        "outputId": "b1d68925-437c-422d-b8d3-ff6e754e2130"
      },
      "outputs": [
        {
          "data": {
            "text/plain": [
              "array([[1, 1],\n",
              "       [2, 2]])"
            ]
          },
          "execution_count": 47,
          "metadata": {},
          "output_type": "execute_result"
        }
      ],
      "source": [
        "x = np.array([[1, 1], [2, 2]])\n",
        "x"
      ]
    },
    {
      "cell_type": "code",
      "execution_count": null,
      "metadata": {
        "school_cell_uuid": "8f8e657146b746019cc03ae7f5cc57a1",
        "id": "-xn0GrTE-d7f",
        "outputId": "4c54ffc8-afd1-44e5-d997-a32dc058f339"
      },
      "outputs": [
        {
          "data": {
            "text/plain": [
              "6"
            ]
          },
          "execution_count": 48,
          "metadata": {},
          "output_type": "execute_result"
        }
      ],
      "source": [
        "x.sum()"
      ]
    },
    {
      "cell_type": "code",
      "execution_count": null,
      "metadata": {
        "school_cell_uuid": "7a4a9a4d94e54b43873cd679486a47aa",
        "id": "P8B24aDP-d7f",
        "outputId": "b3cc4b38-31f4-4790-a6b1-633a6fce087a"
      },
      "outputs": [
        {
          "data": {
            "text/plain": [
              "array([3, 3])"
            ]
          },
          "execution_count": 49,
          "metadata": {},
          "output_type": "execute_result"
        }
      ],
      "source": [
        "x.sum(axis=0)   # 열 합계"
      ]
    },
    {
      "cell_type": "code",
      "execution_count": null,
      "metadata": {
        "school_cell_uuid": "6d40f79e6f8c42e6bdb39777570da8c1",
        "id": "S_00By7H-d7f",
        "outputId": "eb10014e-1b1a-4b99-b84b-4fb419343fd6"
      },
      "outputs": [
        {
          "data": {
            "text/plain": [
              "array([2, 4])"
            ]
          },
          "execution_count": 50,
          "metadata": {},
          "output_type": "execute_result"
        }
      ],
      "source": [
        "x.sum(axis=1)   # 행 합계"
      ]
    },
    {
      "cell_type": "markdown",
      "metadata": {
        "bootstrap": {
          "panel": {
            "class": "panel-default"
          }
        },
        "school_cell_uuid": "578d1791e48d4e02987babe67cf6c1b2",
        "id": "SZzcS447-d7f"
      },
      "source": [
        "````{admonition} 연습 문제 3.3.1\n",
        "\n",
        "실수로 이루어진 5 x 6 형태의 데이터 행렬을 만들고 이 데이터에 대해 다음과 같은 값을 구한다.\n",
        "\n",
        "1. 전체의 최댓값\n",
        "1. 각 행의 합\n",
        "1. 각 행의 최댓값\n",
        "1. 각 열의 평균\n",
        "1. 각 열의 최솟값\n",
        "````"
      ]
    },
    {
      "cell_type": "markdown",
      "metadata": {
        "school_cell_uuid": "d17ff3d97f5c44328e267ce8eb1e8678",
        "id": "a5l-DUVN-d7g"
      },
      "source": [
        "## 정렬"
      ]
    },
    {
      "cell_type": "markdown",
      "metadata": {
        "id": "ePAXiDzc-d7g"
      },
      "source": [
        "```{margin}\n",
        "`sort`\n",
        "```"
      ]
    },
    {
      "cell_type": "markdown",
      "metadata": {
        "school_cell_uuid": "f2ef1af38f9a4c59804902e1773d5e00",
        "id": "iT3-mHXq-d7g"
      },
      "source": [
        "`sort` 함수나 메서드를 사용하여 배열 안의 원소를 크기에 따라 정렬하여 새로운 배열을 만들 수도 있다. 2차원 이상인 경우에는 행이나 열을 각각 따로따로 정렬하는데 `axis` 인수를 사용하여 행을 정렬할 것인지 열을 정렬한 것인지 결정한다. `axis=0`이면 각각의 행을 따로따로 정렬하고 `axis=1`이면 각각의 열을 따로따로 정렬한다. 디폴트 값은 -1 즉 가장 안쪽(나중)의 차원이다."
      ]
    },
    {
      "cell_type": "code",
      "execution_count": null,
      "metadata": {
        "school_cell_uuid": "386747b5e06c4272b95c6d4478e2522c",
        "id": "KkQyqzVY-d7h",
        "outputId": "84f20f01-ae79-48c6-e990-8c6a208d997a"
      },
      "outputs": [
        {
          "data": {
            "text/plain": [
              "array([[ 4,  3,  5,  7],\n",
              "       [ 1, 12, 11,  9],\n",
              "       [ 2, 15,  1, 14]])"
            ]
          },
          "execution_count": 51,
          "metadata": {},
          "output_type": "execute_result"
        }
      ],
      "source": [
        "a = np.array([[4,  3,  5,  7],\n",
        "              [1, 12, 11,  9],\n",
        "              [2, 15,  1, 14]])\n",
        "a"
      ]
    },
    {
      "cell_type": "code",
      "execution_count": null,
      "metadata": {
        "school_cell_uuid": "01b1287f88e84ef08e7415973ca6f017",
        "id": "dy3QmzBb-d7h",
        "outputId": "329e987c-68b3-43ba-9cff-a10b4645c544"
      },
      "outputs": [
        {
          "data": {
            "text/plain": [
              "array([[ 3,  4,  5,  7],\n",
              "       [ 1,  9, 11, 12],\n",
              "       [ 1,  2, 14, 15]])"
            ]
          },
          "execution_count": 52,
          "metadata": {},
          "output_type": "execute_result"
        }
      ],
      "source": [
        "np.sort(a)  # axis=-1 또는 axis=1 과 동일"
      ]
    },
    {
      "cell_type": "code",
      "execution_count": null,
      "metadata": {
        "school_cell_uuid": "bc176ba6937b40939a1f3695826cdc40",
        "id": "Tuh7foFa-d7h",
        "outputId": "b4ba96a4-7f0a-4b64-f640-eaeb7b63bf67"
      },
      "outputs": [
        {
          "data": {
            "text/plain": [
              "array([[ 1,  3,  1,  7],\n",
              "       [ 2, 12,  5,  9],\n",
              "       [ 4, 15, 11, 14]])"
            ]
          },
          "execution_count": 53,
          "metadata": {},
          "output_type": "execute_result"
        }
      ],
      "source": [
        "np.sort(a, axis=0)"
      ]
    },
    {
      "cell_type": "markdown",
      "metadata": {
        "school_cell_uuid": "161d08b9dd474c8c80909173bba9d0ea",
        "id": "1-Vy7rWk-d7i"
      },
      "source": [
        "sort 메서드는 해당 객체의 자료 자체가 변화하는 자체변화(in-place) 메서드이므로 사용할 때 주의를 기울여야 한다."
      ]
    },
    {
      "cell_type": "code",
      "execution_count": null,
      "metadata": {
        "school_cell_uuid": "494139fb7a73493a89398ce82a0c14f1",
        "id": "EG0iXef0-d7i",
        "outputId": "e7903da6-f47d-4c6d-bf76-0fc41ac43515"
      },
      "outputs": [
        {
          "data": {
            "text/plain": [
              "array([[ 3,  4,  5,  7],\n",
              "       [ 1,  9, 11, 12],\n",
              "       [ 1,  2, 14, 15]])"
            ]
          },
          "execution_count": 54,
          "metadata": {},
          "output_type": "execute_result"
        }
      ],
      "source": [
        "a.sort(axis=1)\n",
        "a"
      ]
    },
    {
      "cell_type": "markdown",
      "metadata": {
        "id": "23a_rYzx-d7j"
      },
      "source": [
        "```{margin}\n",
        "`argsort`\n",
        "```"
      ]
    },
    {
      "cell_type": "markdown",
      "metadata": {
        "school_cell_uuid": "4c45b841324441a49d4ceb8cf20f1772",
        "id": "ITdPrq2R-d7j"
      },
      "source": [
        "만약 자료를 정렬하는 것이 아니라 순서만 알고 싶다면 `argsort` 명령을 사용한다."
      ]
    },
    {
      "cell_type": "code",
      "execution_count": null,
      "metadata": {
        "school_cell_uuid": "119343dfb907415785d7846b51ceeb53",
        "id": "8nqG8-6D-d7j",
        "outputId": "ffd3476c-11e1-4954-f636-7ad7a3eee31f"
      },
      "outputs": [
        {
          "data": {
            "text/plain": [
              "array([2, 3, 1, 0])"
            ]
          },
          "execution_count": 55,
          "metadata": {},
          "output_type": "execute_result"
        }
      ],
      "source": [
        "a = np.array([42, 38, 12, 25])\n",
        "j = np.argsort(a)\n",
        "j"
      ]
    },
    {
      "cell_type": "code",
      "execution_count": null,
      "metadata": {
        "school_cell_uuid": "6f0f76d6d9eb4352a5ba8a388b130a2e",
        "id": "vPhQQ0yf-d7j",
        "outputId": "fa738824-5bb0-43bc-c3d7-5fdae58690ef"
      },
      "outputs": [
        {
          "data": {
            "text/plain": [
              "array([12, 25, 38, 42])"
            ]
          },
          "execution_count": 56,
          "metadata": {},
          "output_type": "execute_result"
        }
      ],
      "source": [
        "a[j]"
      ]
    },
    {
      "cell_type": "code",
      "execution_count": null,
      "metadata": {
        "school_cell_uuid": "82e58925d9b44196bf4edadb65b014e6",
        "id": "A0AG2-Lj-d7k",
        "outputId": "dd8852be-f972-4975-8ffa-768ecf663c39"
      },
      "outputs": [
        {
          "data": {
            "text/plain": [
              "array([12, 25, 38, 42])"
            ]
          },
          "execution_count": 57,
          "metadata": {},
          "output_type": "execute_result"
        }
      ],
      "source": [
        "np.sort(a)"
      ]
    },
    {
      "cell_type": "markdown",
      "metadata": {
        "bootstrap": {
          "panel": {
            "class": "panel-default"
          }
        },
        "school_cell_uuid": "d9c45fe2b21b439295a0b6b482dfee49",
        "id": "lom3yqki-d7k"
      },
      "source": [
        "````{admonition} 연습 문제 3.3.2\n",
        "\n",
        "다음 배열은 첫번째 행(row)에 학번, 두번째 행에 영어 성적, 세번째 행에 수학 성적을 적은 배열이다. 영어 성적을 기준으로 각 열(column)을 재정렬하라.\n",
        "\n",
        "```\n",
        "array([[  1,    2,    3,    4],\n",
        "       [ 46,   99,  100,   71],\n",
        "       [ 81,   59,   90,  100]])\n",
        "```\n",
        "````"
      ]
    },
    {
      "cell_type": "code",
      "execution_count": null,
      "metadata": {
        "id": "I31gbyk8-d7k"
      },
      "outputs": [],
      "source": []
    }
  ],
  "metadata": {
    "kernelspec": {
      "display_name": "Python 3",
      "language": "python",
      "name": "python3"
    },
    "language_info": {
      "codemirror_mode": {
        "name": "ipython",
        "version": 3
      },
      "file_extension": ".py",
      "mimetype": "text/x-python",
      "name": "python",
      "nbconvert_exporter": "python",
      "pygments_lexer": "ipython3",
      "version": "3.8.3"
    },
    "colab": {
      "provenance": [],
      "include_colab_link": true
    }
  },
  "nbformat": 4,
  "nbformat_minor": 0
}